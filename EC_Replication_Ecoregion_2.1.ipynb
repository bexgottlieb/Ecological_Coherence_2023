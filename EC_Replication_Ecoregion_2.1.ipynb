{
 "cells": [
  {
   "cell_type": "markdown",
   "id": "68650a6a",
   "metadata": {},
   "source": [
    "# Replication - Ecoregion 2.1"
   ]
  },
  {
   "cell_type": "markdown",
   "id": "b33d2676",
   "metadata": {},
   "source": [
    "### Import libraries and set up environment"
   ]
  },
  {
   "cell_type": "code",
   "execution_count": 1,
   "id": "7edd94ed",
   "metadata": {},
   "outputs": [
    {
     "name": "stdout",
     "output_type": "stream",
     "text": [
      "1.4.4\n",
      "1.20.1\n",
      "2.1.0.2\n"
     ]
    }
   ],
   "source": [
    "import os\n",
    "import sys\n",
    "\n",
    "import pandas as pd\n",
    "print(pd.__version__)\n",
    "\n",
    "import numpy as np\n",
    "print(np.__version__)\n",
    "\n",
    "import arcpy\n",
    "\n",
    "import arcgis\n",
    "print(arcgis.__version__)\n",
    "\n",
    "from arcgis.gis import GIS\n",
    "from arcgis.mapping import WebMap\n",
    "from arcgis.features import FeatureLayer"
   ]
  },
  {
   "cell_type": "code",
   "execution_count": 2,
   "id": "c77088aa",
   "metadata": {},
   "outputs": [],
   "source": [
    "# Set the workspace and environment settings\n",
    "\n",
    "arcpy.env.workspace = r\"F:\\Bex\\ArcGIS\\Ecological_coherence_2023\\Ecological_coherence_2023.gdb\"\n",
    "arcpy.env.overwriteOutput = True "
   ]
  },
  {
   "cell_type": "code",
   "execution_count": 3,
   "id": "1770c065",
   "metadata": {},
   "outputs": [
    {
     "data": {
      "text/html": [
       "<div class='gpresult'><h2>Messages</h2><div id='messages' data-messages='[\"Start Time: 03 November 2023 11:59:30\",\"Intersecting with layer F:\\\\Bex\\\\ArcGIS\\\\Ecological_coherence_2023\\\\Ecological_coherence_2023.gdb\\\\WDPA_MPA_dis...\",\"Succeeded at 03 November 2023 11:59:32 (Elapsed Time: 2.22 seconds)\"]' data-show='true'><div id = 'default' /></div></div>"
      ],
      "text/plain": [
       "<Result 'F:\\\\Bex\\\\ArcGIS\\\\Ecological_coherence_2023\\\\Ecological_coherence_2023.gdb\\\\MPA_dis_Eco_int_Replic2_1'>"
      ]
     },
     "execution_count": 3,
     "metadata": {},
     "output_type": "execute_result"
    }
   ],
   "source": [
    "# Intersect the dissolved MPAs with the ecoregions\n",
    "\n",
    "in_feature_1 = \"WDPA_MPA_dis\"\n",
    "in_feature_2 = \"MEco_mol_Carib\"\n",
    "out_feature = \"\\\\MPA_dis_Eco_int_Replic2_1\"\n",
    "output_gdb = r\"F:\\Bex\\ArcGIS\\Ecological_coherence_2023\\Ecological_coherence_2023.gdb\"\n",
    "\n",
    "arcpy.analysis.PairwiseIntersect(\n",
    "    in_features=[in_feature_1,in_feature_2],\n",
    "    out_feature_class=output_gdb + out_feature,\n",
    "    join_attributes=\"ALL\",\n",
    "    cluster_tolerance=None,\n",
    "    output_type=\"INPUT\"\n",
    ")"
   ]
  },
  {
   "cell_type": "code",
   "execution_count": 18,
   "id": "948a71b2",
   "metadata": {},
   "outputs": [],
   "source": [
    "# Repair geoemtry on intersect and calculate area of intersecting bits\n",
    "\n",
    "in_feature = \"MPA_dis_Eco_int_Replic2_1\"\n",
    "out_feature = \"MPA_dis_Eco_int_singl_Replic2_1\"\n",
    "output_gdb = r\"F:\\Bex\\ArcGIS\\Ecological_coherence_2023\\Ecological_coherence_2023.gdb\"\n",
    "\n",
    "def repair_geo_area():\n",
    "    #repair geometry\n",
    "    arcpy.management.RepairGeometry(\n",
    "        in_features= in_feature,\n",
    "        delete_null=\"DELETE_NULL\",\n",
    "        validation_method=\"OGC\"\n",
    "    )\n",
    "    \n",
    "    #make the intersected layer signlepart to ensure all polygons are individual\n",
    "    arcpy.management.MultipartToSinglepart(\n",
    "        in_features= in_feature,\n",
    "        out_feature_class= out_feature\n",
    "    )\n",
    "            \n",
    "    # insert \"area\" field (double) and calculate area in km2 in Mollweide\n",
    "    arcpy.management.CalculateGeometryAttributes(\n",
    "        in_features=out_feature,\n",
    "        geometry_property=\"area AREA\",\n",
    "        length_unit=\"\",\n",
    "        area_unit=\"SQUARE_KILOMETERS\",\n",
    "        coordinate_system='PROJCS[\"World_Mollweide\",GEOGCS[\"GCS_WGS_1984\",DATUM[\"D_WGS_1984\",SPHEROID[\"WGS_1984\",6378137.0,298.257223563]],PRIMEM[\"Greenwich\",0.0],UNIT[\"Degree\",0.0174532925199433]],PROJECTION[\"Mollweide\"],PARAMETER[\"False_Easting\",0.0],PARAMETER[\"False_Northing\",0.0],PARAMETER[\"Central_Meridian\",0.0],UNIT[\"Meter\",1.0]]',\n",
    "        coordinate_format=\"SAME_AS_INPUT\"\n",
    "    )\n",
    "\n",
    "repair_geo_area()\n"
   ]
  },
  {
   "cell_type": "code",
   "execution_count": 19,
   "id": "deec7a5c",
   "metadata": {},
   "outputs": [],
   "source": [
    "# Only keep features with an area greater than .24 km2\n",
    "\n",
    "# Select features with an area greater than .24 km2 and make a new layer from that and export it to excel\n",
    "\n",
    "# Set a folder to store the output tables\n",
    "table_outputs_folder = r\"F:\\Bex\\ArcGIS\\Ecological_coherence_2023\\Tables\\Replication\"\n",
    "\n",
    "in_feature = \"MPA_dis_Eco_int_singl_Replic2_1\"\n",
    "out_feature = \"MPA_dis_Eco_int_singl_big_Replic2_1\"\n",
    "output_gdb = r\"F:\\Bex\\ArcGIS\\Ecological_coherence_2023\\Ecological_coherence_2023.gdb\"\n",
    "\n",
    "def select_big_excel():\n",
    "    # make a layer of polygons with an area greater than .24 km2    \n",
    "    arcpy.conversion.ExportFeatures(\n",
    "        in_features= in_feature,\n",
    "        out_features= out_feature,\n",
    "        where_clause=\"area >= 0.24\",\n",
    "        use_field_alias_as_name=\"NOT_USE_ALIAS\",\n",
    "        field_mapping='FID_WDPA_MPA_dis \"FID_WDPA_MPA_dis\" true true false 4 Long 0 0,First,#,MPA_dis_Eco_int_singl_Replic2_1,FID_WDPA_MPA_dis,-1,-1;FID_MEco_mol_Carib \"FID_MEco_mol_Carib\" true true false 4 Long 0 0,First,#,MPA_dis_Eco_int_singl_Replic2_1,FID_MEco_mol_Carib,-1,-1;ECOREGION \"ECOREGION\" true true false 50 Text 0 0,First,#,MPA_dis_Eco_int_singl_Replic2_1,ECOREGION,0,50;REALM \"REALM\" true true false 40 Text 0 0,First,#,MPA_dis_Eco_int_singl_Replic2_1,REALM,0,40;PROVINC \"PROVINC\" true true false 254 Text 0 0,First,#,MPA_dis_Eco_int_singl_Replic2_1,PROVINC,0,254;TYPE \"TYPE\" true true false 50 Text 0 0,First,#,MPA_dis_Eco_int_singl_Replic2_1,TYPE,0,50;BIOME \"BIOME\" true true false 254 Text 0 0,First,#,MPA_dis_Eco_int_singl_Replic2_1,BIOME,0,254;MEOW_PPOW \"MEOW_PPOW\" true true false 512 Text 0 0,First,#,MPA_dis_Eco_int_singl_Replic2_1,MEOW_PPOW,0,512;area \"area\" true true false 8 Double 0 0,First,#,MPA_dis_Eco_int_singl_Replic2_1,area,-1,-1;ORIG_FID \"ORIG_FID\" true true false 4 Long 0 0,First,#,MPA_dis_Eco_int_singl_Replic2_1,ORIG_FID,-1,-1;Shape_Length \"Shape_Length\" false true true 8 Double 0 0,First,#,MPA_dis_Eco_int_singl_Replic2_1,Shape_Length,-1,-1;Shape_Area \"Shape_Area\" false true true 8 Double 0 0,First,#,MPA_dis_Eco_int_singl_Replic2_1,Shape_Area,-1,-1',\n",
    "        sort_field=None\n",
    "    )\n",
    "    \n",
    "    # Export table to excel\n",
    "    # Not sure why I had to use the following two lines instead of just using the TableToExcel expression, but I did\n",
    "    excel_filename = out_feature + \".xlsx\"\n",
    "    excel_filepath = os.path.join(table_outputs_folder, excel_filename)  # Build the full file path\n",
    "\n",
    "    arcpy.conversion.TableToExcel(\n",
    "        Input_Table= in_feature,\n",
    "        Output_Excel_File= excel_filepath,\n",
    "        Use_field_alias_as_column_header=\"NAME\",\n",
    "        Use_domain_and_subtype_description=\"CODE\"\n",
    "    )\n",
    "    \n",
    "select_big_excel()"
   ]
  },
  {
   "cell_type": "code",
   "execution_count": 20,
   "id": "54ffa01f",
   "metadata": {},
   "outputs": [],
   "source": [
    "# Convert the output features to a Pandas DataFrame\n",
    "df = pd.DataFrame.spatial.from_featureclass(\"MPA_dis_Eco_int_singl_big_Replic2_1\")\n"
   ]
  },
  {
   "cell_type": "code",
   "execution_count": 21,
   "id": "7bcd6029",
   "metadata": {},
   "outputs": [
    {
     "data": {
      "text/html": [
       "<div>\n",
       "<style scoped>\n",
       "    .dataframe tbody tr th:only-of-type {\n",
       "        vertical-align: middle;\n",
       "    }\n",
       "\n",
       "    .dataframe tbody tr th {\n",
       "        vertical-align: top;\n",
       "    }\n",
       "\n",
       "    .dataframe thead th {\n",
       "        text-align: right;\n",
       "    }\n",
       "</style>\n",
       "<table border=\"1\" class=\"dataframe\">\n",
       "  <thead>\n",
       "    <tr style=\"text-align: right;\">\n",
       "      <th></th>\n",
       "      <th>OBJECTID</th>\n",
       "      <th>FID_WDPA_MPA_dis</th>\n",
       "      <th>FID_MEco_mol_Carib</th>\n",
       "      <th>ECOREGION</th>\n",
       "      <th>REALM</th>\n",
       "      <th>PROVINC</th>\n",
       "      <th>TYPE</th>\n",
       "      <th>BIOME</th>\n",
       "      <th>MEOW_PPOW</th>\n",
       "      <th>area</th>\n",
       "      <th>ORIG_FID</th>\n",
       "      <th>SHAPE</th>\n",
       "    </tr>\n",
       "  </thead>\n",
       "  <tbody>\n",
       "    <tr>\n",
       "      <th>0</th>\n",
       "      <td>1</td>\n",
       "      <td>3489</td>\n",
       "      <td>15</td>\n",
       "      <td>Guianan</td>\n",
       "      <td>Tropical Atlantic</td>\n",
       "      <td>North Brazil Shelf</td>\n",
       "      <td>MEOW</td>\n",
       "      <td></td>\n",
       "      <td>Guianan</td>\n",
       "      <td>3.529774</td>\n",
       "      <td>6</td>\n",
       "      <td>{\"hasZ\": true, \"rings\": [[[-6047228.252800001,...</td>\n",
       "    </tr>\n",
       "    <tr>\n",
       "      <th>1</th>\n",
       "      <td>2</td>\n",
       "      <td>3508</td>\n",
       "      <td>15</td>\n",
       "      <td>Guianan</td>\n",
       "      <td>Tropical Atlantic</td>\n",
       "      <td>North Brazil Shelf</td>\n",
       "      <td>MEOW</td>\n",
       "      <td></td>\n",
       "      <td>Guianan</td>\n",
       "      <td>7.753426</td>\n",
       "      <td>25</td>\n",
       "      <td>{\"hasZ\": true, \"rings\": [[[-6032748.834799999,...</td>\n",
       "    </tr>\n",
       "    <tr>\n",
       "      <th>2</th>\n",
       "      <td>3</td>\n",
       "      <td>3514</td>\n",
       "      <td>15</td>\n",
       "      <td>Guianan</td>\n",
       "      <td>Tropical Atlantic</td>\n",
       "      <td>North Brazil Shelf</td>\n",
       "      <td>MEOW</td>\n",
       "      <td></td>\n",
       "      <td>Guianan</td>\n",
       "      <td>1.874949</td>\n",
       "      <td>31</td>\n",
       "      <td>{\"hasZ\": true, \"rings\": [[[-6040808.767100001,...</td>\n",
       "    </tr>\n",
       "    <tr>\n",
       "      <th>3</th>\n",
       "      <td>4</td>\n",
       "      <td>3515</td>\n",
       "      <td>15</td>\n",
       "      <td>Guianan</td>\n",
       "      <td>Tropical Atlantic</td>\n",
       "      <td>North Brazil Shelf</td>\n",
       "      <td>MEOW</td>\n",
       "      <td></td>\n",
       "      <td>Guianan</td>\n",
       "      <td>2.801874</td>\n",
       "      <td>32</td>\n",
       "      <td>{\"hasZ\": true, \"rings\": [[[-6041959.022399999,...</td>\n",
       "    </tr>\n",
       "    <tr>\n",
       "      <th>4</th>\n",
       "      <td>5</td>\n",
       "      <td>3517</td>\n",
       "      <td>15</td>\n",
       "      <td>Guianan</td>\n",
       "      <td>Tropical Atlantic</td>\n",
       "      <td>North Brazil Shelf</td>\n",
       "      <td>MEOW</td>\n",
       "      <td></td>\n",
       "      <td>Guianan</td>\n",
       "      <td>0.462409</td>\n",
       "      <td>34</td>\n",
       "      <td>{\"hasZ\": true, \"rings\": [[[-6042892.1697, 1117...</td>\n",
       "    </tr>\n",
       "  </tbody>\n",
       "</table>\n",
       "</div>"
      ],
      "text/plain": [
       "   OBJECTID  FID_WDPA_MPA_dis  FID_MEco_mol_Carib ECOREGION  \\\n",
       "0         1              3489                  15   Guianan   \n",
       "1         2              3508                  15   Guianan   \n",
       "2         3              3514                  15   Guianan   \n",
       "3         4              3515                  15   Guianan   \n",
       "4         5              3517                  15   Guianan   \n",
       "\n",
       "               REALM             PROVINC  TYPE BIOME MEOW_PPOW      area  \\\n",
       "0  Tropical Atlantic  North Brazil Shelf  MEOW         Guianan  3.529774   \n",
       "1  Tropical Atlantic  North Brazil Shelf  MEOW         Guianan  7.753426   \n",
       "2  Tropical Atlantic  North Brazil Shelf  MEOW         Guianan  1.874949   \n",
       "3  Tropical Atlantic  North Brazil Shelf  MEOW         Guianan  2.801874   \n",
       "4  Tropical Atlantic  North Brazil Shelf  MEOW         Guianan  0.462409   \n",
       "\n",
       "   ORIG_FID                                              SHAPE  \n",
       "0         6  {\"hasZ\": true, \"rings\": [[[-6047228.252800001,...  \n",
       "1        25  {\"hasZ\": true, \"rings\": [[[-6032748.834799999,...  \n",
       "2        31  {\"hasZ\": true, \"rings\": [[[-6040808.767100001,...  \n",
       "3        32  {\"hasZ\": true, \"rings\": [[[-6041959.022399999,...  \n",
       "4        34  {\"hasZ\": true, \"rings\": [[[-6042892.1697, 1117...  "
      ]
     },
     "execution_count": 21,
     "metadata": {},
     "output_type": "execute_result"
    }
   ],
   "source": [
    "# Display the DataFrame\n",
    "df.head()"
   ]
  },
  {
   "cell_type": "code",
   "execution_count": 22,
   "id": "4b97be3b",
   "metadata": {},
   "outputs": [
    {
     "name": "stdout",
     "output_type": "stream",
     "text": [
      "                      MEOW_PPOW  count\n",
      "0                      Amazonia      2\n",
      "1                      Bahamian     74\n",
      "2                    Carolinian      7\n",
      "3             Eastern Caribbean     57\n",
      "4           Equatorial Atlantic      2\n",
      "5                     Floridian     45\n",
      "6              Greater Antilles    145\n",
      "7                       Guianan     70\n",
      "8                   Gulf Stream      1\n",
      "9           Inter American Seas     54\n",
      "10  North Central Atlantic Gyre     10\n",
      "11      Northern Gulf of Mexico    114\n",
      "12           Southern Caribbean     48\n",
      "13      Southern Gulf of Mexico     24\n",
      "14       Southwestern Caribbean     83\n",
      "15            Western Caribbean     40\n"
     ]
    }
   ],
   "source": [
    "# Make pivot tables\n",
    "pivot_MPA_ecoregion = df.pivot_table(\n",
    "     index = \"MEOW_PPOW\",\n",
    "     values = \"OBJECTID\",\n",
    "     aggfunc = \"count\"\n",
    ").reset_index()\n",
    "pivot_MPA_ecoregion.columns = [\"MEOW_PPOW\", \"count\"]\n",
    "print(pivot_MPA_ecoregion)\n",
    "\n"
   ]
  },
  {
   "cell_type": "code",
   "execution_count": 23,
   "id": "7c3dc59f",
   "metadata": {},
   "outputs": [],
   "source": [
    "#Export to excel\n",
    "\n",
    "table_outputs_folder = r\"F:\\Bex\\ArcGIS\\Ecological_coherence_2023\\Tables\\Replication\"\n",
    "table = pivot_MPA_ecoregion\n",
    "output_name = \"MPA_dis_Eco_int_singl_big_Replic2_1_results.xlsx\"\n",
    "\n",
    "table.to_excel(os.path.join(table_outputs_folder, output_name))"
   ]
  },
  {
   "cell_type": "markdown",
   "id": "5ec9161b",
   "metadata": {},
   "source": [
    "Reminder to add in the marine ecoregions/pelagic provinces that fall within the study area but don't have any intersections with MPAs so they dont show up in the results. I think there are 3 or so of them."
   ]
  }
 ],
 "metadata": {
  "kernelspec": {
   "display_name": "Python 3 (ipykernel)",
   "language": "python",
   "name": "python3"
  },
  "language_info": {
   "codemirror_mode": {
    "name": "ipython",
    "version": 3
   },
   "file_extension": ".py",
   "mimetype": "text/x-python",
   "name": "python",
   "nbconvert_exporter": "python",
   "pygments_lexer": "ipython3",
   "version": "3.9.16"
  }
 },
 "nbformat": 4,
 "nbformat_minor": 5
}
