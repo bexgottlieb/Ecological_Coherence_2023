{
 "cells": [
  {
   "cell_type": "markdown",
   "id": "68650a6a",
   "metadata": {},
   "source": [
    "# Adequacy - Human Impact 4.3"
   ]
  },
  {
   "cell_type": "markdown",
   "id": "b33d2676",
   "metadata": {},
   "source": [
    "### Import libraries and set up environment"
   ]
  },
  {
   "cell_type": "code",
   "execution_count": 1,
   "id": "7edd94ed",
   "metadata": {},
   "outputs": [
    {
     "name": "stdout",
     "output_type": "stream",
     "text": [
      "1.4.4\n",
      "1.20.1\n",
      "2.1.0.2\n"
     ]
    }
   ],
   "source": [
    "import os\n",
    "import sys\n",
    "\n",
    "import pandas as pd\n",
    "print(pd.__version__)\n",
    "\n",
    "import numpy as np\n",
    "print(np.__version__)\n",
    "\n",
    "import arcpy\n",
    "\n",
    "import arcgis\n",
    "print(arcgis.__version__)\n",
    "\n",
    "from arcgis.gis import GIS\n",
    "from arcgis.mapping import WebMap\n",
    "from arcgis.features import FeatureLayer"
   ]
  },
  {
   "cell_type": "code",
   "execution_count": 2,
   "id": "c77088aa",
   "metadata": {},
   "outputs": [],
   "source": [
    "# Set the workspace and environment settings\n",
    "\n",
    "arcpy.env.workspace = r\"F:\\Bex\\ArcGIS\\Ecological_coherence_2023\\Ecological_coherence_2023.gdb\"\n",
    "arcpy.env.overwriteOutput = True "
   ]
  },
  {
   "cell_type": "markdown",
   "id": "fe3f4f6d",
   "metadata": {},
   "source": [
    "#### 4.3 Human Impact"
   ]
  },
  {
   "cell_type": "code",
   "execution_count": 3,
   "id": "8c570ed0",
   "metadata": {},
   "outputs": [
    {
     "data": {
      "text/html": [
       "<div class='gpresult'><h2>Messages</h2><div id='messages' data-messages='[\"Start Time: 14 December 2023 14:35:06\",\"Successfully converted:  C:\\\\Users\\\\bexg\\\\Downloads\\\\cumulative_impact_2013.tif To F:\\\\Bex\\\\ArcGIS\\\\Ecological_coherence_2023\\\\Ecological_coherence_2023.gdb\\\\cumulative_impact_2013\",\"Succeeded at 14 December 2023 14:35:57 (Elapsed Time: 50.59 seconds)\"]' data-show='true'><div id = 'default' /></div></div>"
      ],
      "text/plain": [
       "<Result ''>"
      ]
     },
     "execution_count": 3,
     "metadata": {},
     "output_type": "execute_result"
    }
   ],
   "source": [
    "# Add the cumulative_impact_2013.tif layer to the project (from https://knb.ecoinformatics.org/view/doi:10.5063/F12B8WBS)\n",
    "\n",
    "output_gdb = r\"F:\\Bex\\ArcGIS\\Ecological_coherence_2023\\Ecological_coherence_2023.gdb\"\n",
    "\n",
    "arcpy.conversion.RasterToGeodatabase(\n",
    "    Input_Rasters=[r\"C:\\Users\\bexg\\Downloads\\cumulative_impact_2013.tif\"],\n",
    "    Output_Geodatabase=output_gdb,\n",
    "    Configuration_Keyword=\"\"\n",
    ")"
   ]
  },
  {
   "cell_type": "code",
   "execution_count": 5,
   "id": "9bc0ed51",
   "metadata": {},
   "outputs": [],
   "source": [
    "# Clip the cumulative impact data to the study area\n",
    "\n",
    "in_feature = \"cumulative_impact_2013\"\n",
    "mask_feature = \"Caribbean_detailed_subregions_mol\"\n",
    "out_feature = \"\\\\Impact_Carib_Adq4_3\"\n",
    "output_gdb = r\"F:\\Bex\\ArcGIS\\Ecological_coherence_2023\\Ecological_coherence_2023.gdb\"\n",
    "\n",
    "\n",
    "out_raster = arcpy.sa.ExtractByMask(\n",
    "    in_raster= in_feature,\n",
    "    in_mask_data= mask_feature,\n",
    "    extraction_area=\"INSIDE\",\n",
    "    analysis_extent='-9355915.704 501761.6975 -4929940.5223 3747456.4946 PROJCS[\"WGS_1984_Mollweide\",GEOGCS[\"GCS_WGS_1984\",DATUM[\"D_unknown\",SPHEROID[\"WGS84\",6378137.0,298.257223563]],PRIMEM[\"Greenwich\",0.0],UNIT[\"Degree\",0.0174532925199433]],PROJECTION[\"Mollweide\"],PARAMETER[\"false_easting\",0.0],PARAMETER[\"false_northing\",0.0],PARAMETER[\"central_meridian\",0.0],UNIT[\"Meter\",1.0]]'\n",
    ")\n",
    "out_raster.save(output_gdb + out_feature)"
   ]
  },
  {
   "cell_type": "code",
   "execution_count": null,
   "id": "7a044ae1",
   "metadata": {},
   "outputs": [],
   "source": [
    "# Reclassify the data into quartiles, such that the 25% most impacted pixels are given a value of 2\n",
    "# and the other 75% of locations (lower impacted locations) were given a value of 1\n",
    "# Note that it's easiest to do this in the ArcGIS GUI to automatically classify the values in quantiles (with 4 classes)\n",
    "\n",
    "in_raster = \"Impact_Carib_Adq4_3\"\n",
    "out_feature = \"\\\\Impact_Carib_ReclassQuart_Adq4_3\"\n",
    "output_gdb = r\"F:\\Bex\\ArcGIS\\Ecological_coherence_2023\\Ecological_coherence_2023.gdb\"\n",
    "\n",
    "out_raster = arcpy.sa.Reclassify(\n",
    "    in_raster= in_raster,\n",
    "    reclass_field=\"VALUE\",\n",
    "    remap=\"0.134819 1.163432 1;1.163432 1.477731 1;1.477731 1.792029 1;1.792029 7.420828 2\",\n",
    "    missing_values=\"DATA\"\n",
    ")\n",
    "out_raster.save(output_gdb + out_feature)"
   ]
  },
  {
   "cell_type": "code",
   "execution_count": 27,
   "id": "ba7394aa",
   "metadata": {},
   "outputs": [
    {
     "data": {
      "text/html": [
       "<div class='gpresult'><h2>Messages</h2><div id='messages' data-messages='[\"Start Time: 14 December 2023 16:38:06\",\"Succeeded at 14 December 2023 16:38:06 (Elapsed Time: 0.08 seconds)\"]' data-show='true'><div id = 'default' /></div></div>"
      ],
      "text/plain": [
       "<Result 'F:\\\\Bex\\\\ArcGIS\\\\Ecological_coherence_2023\\\\Ecological_coherence_2023.gdb\\\\Caribbean_detailed_subregions_mol_HumanImpactIDs'>"
      ]
     },
     "execution_count": 27,
     "metadata": {},
     "output_type": "execute_result"
    }
   ],
   "source": [
    "# Assign each subregion in the study area a unique two-digit identification number\n",
    "\n",
    "# First make a copy of the subregions layer\n",
    "in_feature = \"Caribbean_detailed_subregions_mol\"\n",
    "out_feature = \"\\\\Caribbean_detailed_subregions_mol_HumanImpactIDs\"\n",
    "output_gdb = r\"F:\\Bex\\ArcGIS\\Ecological_coherence_2023\\Ecological_coherence_2023.gdb\"\n",
    "\n",
    "arcpy.conversion.ExportFeatures(\n",
    "    in_features= in_feature,\n",
    "    out_features=output_gdb + out_feature,\n",
    "    where_clause=\"\",\n",
    "    use_field_alias_as_name=\"NOT_USE_ALIAS\",\n",
    ")\n",
    "\n",
    "# Define the inputs\n",
    "arcpy.env.workspace = r\"F:\\Bex\\ArcGIS\\Ecological_coherence_2023\\Ecological_coherence_2023.gdb\"\n",
    "in_feature = \"Caribbean_detailed_subregions_mol_HumanImpactIDs\"\n",
    "\n",
    "# Define a dictionary to map Subregion values to IDs\n",
    "subregion_mapping = {\n",
    "    \"Greater Antilles\": 10,\n",
    "    \"Gulf of Mexico\": 20,\n",
    "    \"Florida\": 30,\n",
    "    \"Bahamian\": 40,\n",
    "    \"Eastern Caribbean\": 50,\n",
    "    \"Guianan\": 60,\n",
    "    \"Southern Caribbean\": 70,\n",
    "    \"Southwestern Caribbean\": 80,\n",
    "    \"Western Caribbean\": 90\n",
    "}\n",
    "\n",
    "# Add a Subregion_ID field\n",
    "arcpy.management.AddField(in_feature, \"Subregion_ID\", \"DOUBLE\")\n",
    "\n",
    "# Calculate the SubregionID field using the dictionary above\n",
    "arcpy.management.CalculateField(in_feature, \"Subregion_ID\", \"subregion_mapping.get(!Subregion!, None)\", \"PYTHON3\")\n"
   ]
  },
  {
   "cell_type": "code",
   "execution_count": 3,
   "id": "a46c05a8",
   "metadata": {},
   "outputs": [],
   "source": [
    "# Convert the subreion layer to raster using the subregion ID as the value\n",
    "# Set the cell output size as the same as the Human Impact layer cell size\n",
    "\n",
    "in_feature = \"Caribbean_detailed_subregions_mol_HumanImpactIDs\"\n",
    "out_feature = \"\\\\Caribbean_detailed_subregions_mol_raster\"\n",
    "output_gdb = r\"F:\\Bex\\ArcGIS\\Ecological_coherence_2023\\Ecological_coherence_2023.gdb\"\n",
    "\n",
    "with arcpy.EnvManager(cellSize=\"cumulative_impact_2013\"):\n",
    "    arcpy.conversion.FeatureToRaster(\n",
    "        in_features= in_feature,\n",
    "        field=\"Subregion_ID\",\n",
    "        out_raster= output_gdb + out_feature,\n",
    "        cell_size=r\"F:\\Bex\\ArcGIS\\Ecological_coherence_2023\\Ecological_coherence_2023.gdb\\cumulative_impact_2013\"\n",
    "    )\n",
    "\n"
   ]
  },
  {
   "cell_type": "code",
   "execution_count": 4,
   "id": "d4a11fe4",
   "metadata": {},
   "outputs": [
    {
     "data": {
      "text/html": [
       "<div class='gpresult'><h2>Messages</h2><div id='messages' data-messages='[\"Start Time: 20 December 2023 16:11:24\",\"Succeeded at 20 December 2023 16:11:24 (Elapsed Time: 0.24 seconds)\"]' data-show='true'><div id = 'default' /></div></div>"
      ],
      "text/plain": [
       "<Result 'F:\\\\Bex\\\\ArcGIS\\\\Ecological_coherence_2023\\\\Ecological_coherence_2023.gdb\\\\\\\\WDPA_MPA_dis_ID'>"
      ]
     },
     "execution_count": 4,
     "metadata": {},
     "output_type": "execute_result"
    }
   ],
   "source": [
    "# Assign MPAs in the study area an identification number of 100\n",
    "\n",
    "# First make a copy of the MPA layer\n",
    "in_feature = \"WDPA_MPA_dis\"\n",
    "out_feature = \"\\\\WDPA_MPA_dis_ID\"\n",
    "output_gdb = r\"F:\\Bex\\ArcGIS\\Ecological_coherence_2023\\Ecological_coherence_2023.gdb\"\n",
    "\n",
    "arcpy.conversion.ExportFeatures(\n",
    "    in_features= in_feature,\n",
    "    out_features=output_gdb + out_feature,\n",
    "    where_clause=\"\",\n",
    "    use_field_alias_as_name=\"NOT_USE_ALIAS\",\n",
    ")\n",
    "\n",
    "# Add a new field called MPA_ID to the new layer\n",
    "arcpy.management.AddField(out_feature, \"MPA_ID\", \"LONG\")\n",
    "\n",
    "# Calculate the new field with a constant value of 100 for all rows\n",
    "arcpy.management.CalculateField(out_feature, \"MPA_ID\", \"100\", \"PYTHON3\")"
   ]
  },
  {
   "cell_type": "code",
   "execution_count": 5,
   "id": "2b95dca3",
   "metadata": {},
   "outputs": [],
   "source": [
    "# Convert and MPA layer to raster\n",
    "# Set the cell output size to the same as the Human Impact layer cell size\n",
    "\n",
    "in_feature = \"WDPA_MPA_dis_ID\"\n",
    "out_feature = \"\\\\WDPA_MPA_dis_ID_raster\"\n",
    "output_gdb = r\"F:\\Bex\\ArcGIS\\Ecological_coherence_2023\\Ecological_coherence_2023.gdb\"\n",
    "\n",
    "with arcpy.EnvManager(cellSize=\"cumulative_impact_2013\"):\n",
    "    arcpy.conversion.FeatureToRaster(\n",
    "        in_features= in_feature,\n",
    "        field=\"MPA_ID\",\n",
    "        out_raster= output_gdb + out_feature,\n",
    "        cell_size=r\"F:\\Bex\\ArcGIS\\Ecological_coherence_2023\\Ecological_coherence_2023.gdb\\cumulative_impact_2013\"\n",
    "    )"
   ]
  },
  {
   "cell_type": "code",
   "execution_count": 32,
   "id": "ac8f7261",
   "metadata": {},
   "outputs": [],
   "source": [
    "# Using raster calculator, add the raster MPA layer, the reclassified human impacts layer, and the raster subregion layer.\n",
    "\n",
    "\n",
    "arcpy.env.workspace = r\"F:\\Bex\\ArcGIS\\Ecological_coherence_2023\\Ecological_coherence_2023.gdb\"\n",
    "\n",
    "# Define the input raster paths\n",
    "input1 = \"WDPA_MPA_dis_ID_raster.tif\"\n",
    "input2 = \"Impact_Carib_ReclassQuart_Adq4_3.tif\"\n",
    "input3 = \"Caribbean_detailed_subregions_mol_raster.tif\"\n",
    "output_gdb = r\"F:\\Bex\\ArcGIS\\Ecological_coherence_2023\\Ecological_coherence_2023.gdb\"\n",
    "\n",
    "# Specify the output raster name\n",
    "output = \"\\\\ImpactReclass_MPA_Subregions_Add_Adq4_3\"\n",
    "\n",
    "# Use RasterCalculator to add the three rasters\n",
    "expression = \"{} + {} + {}\".format(input1, input2, input3)\n",
    "output_raster = arcpy.sa.RasterCalculator([input1, input2, input3], [input1, input2, input3], expression)\n",
    "\n",
    "output_raster.save(output_gdb + output)\n"
   ]
  },
  {
   "cell_type": "code",
   "execution_count": 52,
   "id": "7383321a",
   "metadata": {},
   "outputs": [
    {
     "name": "stdout",
     "output_type": "stream",
     "text": [
      "    OBJECTID  Value     Count\n",
      "0          1    111   67601.0\n",
      "1          2    112    9607.0\n",
      "2          3    121   14718.0\n",
      "3          4    122    5955.0\n",
      "4          5    131   11882.0\n",
      "5          6    132    5287.0\n",
      "6          7    141   53240.0\n",
      "7          8    142      96.0\n",
      "8          9    151   26990.0\n",
      "9         10    152  152020.0\n",
      "10        11    161    2853.0\n",
      "11        12    162     201.0\n",
      "12        13    171   21755.0\n",
      "13        14    172   15526.0\n",
      "14        15    181   85903.0\n",
      "15        16    182   14996.0\n",
      "16        17    191   79591.0\n",
      "17        18    192   11261.0\n"
     ]
    }
   ],
   "source": [
    "# Export the attribute table from ImpactReclass_MPA_Subregions_Add_Adq4_3 to be a dataframe\n",
    "\n",
    "# Specify the raster dataset name\n",
    "raster_dataset = \"ImpactReclass_MPA_Subregions_Add_Adq4_3\"\n",
    "\n",
    "# Use TableToNumPyArray to retrieve data from the raster attribute table\n",
    "arr = arcpy.da.TableToNumPyArray(raster_dataset, \"*\")\n",
    "\n",
    "# Convert the numpy array to a pandas DataFrame\n",
    "df = pd.DataFrame(arr)\n",
    "\n",
    "# Print or use the DataFrame as needed\n",
    "print(df)"
   ]
  },
  {
   "cell_type": "code",
   "execution_count": 53,
   "id": "1e69e5cc",
   "metadata": {},
   "outputs": [],
   "source": [
    "#Export to excel\n",
    "\n",
    "table_outputs_folder = r\"F:\\Bex\\ArcGIS\\Ecological_coherence_2023\\Tables\\Adequacy\"\n",
    "table_name = \"ImpactReclass_MPA_Subregions_Add_Adq4_3.xlsx\"\n",
    "\n",
    "df.to_excel(os.path.join(table_outputs_folder, table_name))"
   ]
  },
  {
   "cell_type": "code",
   "execution_count": 54,
   "id": "0c2360d8",
   "metadata": {},
   "outputs": [
    {
     "name": "stdout",
     "output_type": "stream",
     "text": [
      "   OBJECTID  Value    Count               subregion  Total_cells  \\\n",
      "0         1    111  67601.0        Greater Antilles      77208.0   \n",
      "1         3    121  14718.0          Gulf of Mexico      20673.0   \n",
      "2         5    131  11882.0                 Florida      17169.0   \n",
      "3         7    141  53240.0                Bahamian      53336.0   \n",
      "4         9    151  26990.0       Eastern Caribbean     179010.0   \n",
      "5        11    161   2853.0                 Guianan       3054.0   \n",
      "6        13    171  21755.0      Southern Caribbean      37281.0   \n",
      "7        15    181  85903.0  Southwestern Caribbean     100899.0   \n",
      "8        17    191  79591.0       Western Caribbean      90852.0   \n",
      "\n",
      "   total_low_impact_cells  percent_low_impact_cells  \n",
      "0                 67601.0                 87.556989  \n",
      "1                 14718.0                 71.194311  \n",
      "2                 11882.0                 69.206127  \n",
      "3                 53240.0                 99.820009  \n",
      "4                 26990.0                 15.077370  \n",
      "5                  2853.0                 93.418468  \n",
      "6                 21755.0                 58.354121  \n",
      "7                 85903.0                 85.137613  \n",
      "8                 79591.0                 87.605116  \n"
     ]
    }
   ],
   "source": [
    "# Define the subregion mapping\n",
    "subregion_mapping = {\n",
    "    1: \"Greater Antilles\",\n",
    "    2 : \"Gulf of Mexico\",\n",
    "    3: \"Florida\",\n",
    "    4: \"Bahamian\",\n",
    "    5: \"Eastern Caribbean\",\n",
    "    6: \"Guianan\",\n",
    "    7: \"Southern Caribbean\",\n",
    "    8: \"Southwestern Caribbean\",\n",
    "    9: \"Western Caribbean\"\n",
    "}\n",
    "\n",
    "# Add a new \"subregion\" field to the DataFrame based on the second digit of \"Value\"\n",
    "df['subregion'] = (df['Value'] // 10) % 10\n",
    "df['subregion'] = df['subregion'].map(subregion_mapping)\n",
    "\n",
    "# Add a new field for the total number of cells per subregion\n",
    "df[\"Total_cells\"] = df.groupby(\"subregion\")[\"Count\"].transform(\"sum\")\n",
    "\n",
    "# Add a new field \"total_low_impact_cells\" based on the condition\n",
    "df[\"total_low_impact_cells\"] = df.loc[df[\"Value\"] % 10 == 1, \"Count\"]\n",
    "\n",
    "# Fill NaN values with 0 if necessary\n",
    "df[\"total_low_impact_cells\"].fillna(0, inplace=True)\n",
    "\n",
    "# Add a new field \"percent_low_impact_cells\"\n",
    "df[\"percent_low_impact_cells\"] = (df[\"total_low_impact_cells\"] / df[\"Total_cells\"]) * 100\n",
    "\n",
    "# Remove rows where the 3rd digit in the \"Value\" field is 2 (unneeded rows for the final output)\n",
    "df = df[df[\"Value\"] % 10 != 2]\n",
    "\n",
    "# Reset the index after removing rows\n",
    "df.reset_index(drop=True, inplace=True)\n",
    "\n",
    "# Print or use the updated DataFrame as needed\n",
    "print(df)\n"
   ]
  },
  {
   "cell_type": "code",
   "execution_count": 55,
   "id": "11209eeb",
   "metadata": {},
   "outputs": [],
   "source": [
    "#Export to excel\n",
    "\n",
    "table_outputs_folder = r\"F:\\Bex\\ArcGIS\\Ecological_coherence_2023\\Tables\\Adequacy\"\n",
    "table_name = \"ImpactReclass_MPA_Subregions_Add_Adq4_3_results.xlsx\"\n",
    "\n",
    "df.to_excel(os.path.join(table_outputs_folder, table_name))"
   ]
  }
 ],
 "metadata": {
  "kernelspec": {
   "display_name": "Python 3 (ipykernel)",
   "language": "python",
   "name": "python3"
  },
  "language_info": {
   "codemirror_mode": {
    "name": "ipython",
    "version": 3
   },
   "file_extension": ".py",
   "mimetype": "text/x-python",
   "name": "python",
   "nbconvert_exporter": "python",
   "pygments_lexer": "ipython3",
   "version": "3.9.16"
  }
 },
 "nbformat": 4,
 "nbformat_minor": 5
}
