{
 "cells": [
  {
   "cell_type": "markdown",
   "id": "68650a6a",
   "metadata": {},
   "source": [
    "# Representativity - Ecoregion coverage 1.2"
   ]
  },
  {
   "cell_type": "markdown",
   "id": "b33d2676",
   "metadata": {},
   "source": [
    "### Import libraries and set up environment"
   ]
  },
  {
   "cell_type": "code",
   "execution_count": 6,
   "id": "7edd94ed",
   "metadata": {},
   "outputs": [
    {
     "name": "stdout",
     "output_type": "stream",
     "text": [
      "1.4.4\n",
      "1.20.1\n",
      "2.1.0.2\n"
     ]
    }
   ],
   "source": [
    "import os\n",
    "import sys\n",
    "\n",
    "import pandas as pd\n",
    "print(pd.__version__)\n",
    "\n",
    "import numpy as np\n",
    "print(np.__version__)\n",
    "\n",
    "import arcpy\n",
    "\n",
    "import arcgis\n",
    "print(arcgis.__version__)\n",
    "\n",
    "from arcgis.gis import GIS\n",
    "from arcgis.mapping import WebMap\n",
    "from arcgis.features import FeatureLayer"
   ]
  },
  {
   "cell_type": "code",
   "execution_count": 7,
   "id": "c77088aa",
   "metadata": {},
   "outputs": [],
   "source": [
    "# Set the workspace and environment settings\n",
    "\n",
    "arcpy.env.workspace = r\"F:\\Bex\\ArcGIS\\Ecological_coherence_2023\\Ecological_coherence_2023.gdb\"\n",
    "arcpy.env.overwriteOutput = True "
   ]
  },
  {
   "cell_type": "code",
   "execution_count": 40,
   "id": "1770c065",
   "metadata": {},
   "outputs": [
    {
     "data": {
      "text/html": [
       "<div class='gpresult'><h2>Messages</h2><div id='messages' data-messages='[\"Start Time: 21 September 2023 15:00:00\",\"Reading Features...\",\"Cracking Features...\",\"Assembling Features...\",\"Succeeded at 21 September 2023 15:00:08 (Elapsed Time: 7.82 seconds)\"]' data-show='true'><div id = 'default' /></div></div>"
      ],
      "text/plain": [
       "<Result 'F:\\\\Bex\\\\ArcGIS\\\\Ecological_coherence_2023\\\\Ecological_coherence_2023.gdb\\\\MPA_dis_Eco_union_Rep1_2'>"
      ]
     },
     "execution_count": 40,
     "metadata": {},
     "output_type": "execute_result"
    }
   ],
   "source": [
    "# Union the dissolved MPAs with the ecoregions\n",
    "\n",
    "in_feature_1 = \"WDPA_MPA_dis\"\n",
    "in_feature_2 = \"MEco_mol_Carib\"\n",
    "out_feature = \"\\\\MPA_dis_Eco_union_Rep1_2\"\n",
    "output_gdb = r\"F:\\Bex\\ArcGIS\\Ecological_coherence_2023\\Ecological_coherence_2023.gdb\"\n",
    "\n",
    "arcpy.analysis.Union(\n",
    "    in_features=[in_feature_1,in_feature_2],\n",
    "    out_feature_class= output_gdb + out_feature,\n",
    "    join_attributes=\"ALL\",\n",
    "    cluster_tolerance=None,\n",
    "    gaps=\"GAPS\"\n",
    ")"
   ]
  },
  {
   "cell_type": "code",
   "execution_count": 42,
   "id": "948a71b2",
   "metadata": {},
   "outputs": [],
   "source": [
    "# Repair geoemtry on union, calculate area, and export to excel\n",
    "\n",
    "# Set a folder to store the output tables\n",
    "table_outputs_folder = r\"F:\\Bex\\ArcGIS\\Ecological_coherence_2023\\Tables\\Representativity\"\n",
    "\n",
    "in_feature = \"MPA_dis_Eco_union_Rep1_2\"\n",
    "output_gdb = r\"F:\\Bex\\ArcGIS\\Ecological_coherence_2023\\Ecological_coherence_2023.gdb\"\n",
    "\n",
    "def repair_geo_area_export():\n",
    "    #repair geometry\n",
    "    arcpy.management.RepairGeometry(\n",
    "        in_features= in_feature,\n",
    "        delete_null=\"DELETE_NULL\",\n",
    "        validation_method=\"OGC\"\n",
    "    )\n",
    "            \n",
    "    # insert \"area\" field (double) and calculate area in km2 in Mollweide\n",
    "    arcpy.management.CalculateGeometryAttributes(\n",
    "        in_features= in_feature,\n",
    "        geometry_property=\"area AREA\",\n",
    "        length_unit=\"\",\n",
    "        area_unit=\"SQUARE_KILOMETERS\",\n",
    "        coordinate_system='PROJCS[\"World_Mollweide\",GEOGCS[\"GCS_WGS_1984\",DATUM[\"D_WGS_1984\",SPHEROID[\"WGS_1984\",6378137.0,298.257223563]],PRIMEM[\"Greenwich\",0.0],UNIT[\"Degree\",0.0174532925199433]],PROJECTION[\"Mollweide\"],PARAMETER[\"False_Easting\",0.0],PARAMETER[\"False_Northing\",0.0],PARAMETER[\"Central_Meridian\",0.0],UNIT[\"Meter\",1.0]]',\n",
    "        coordinate_format=\"SAME_AS_INPUT\"\n",
    "    )\n",
    "    \n",
    "    # Export tables to excel\n",
    "    # Not sure why I had to use the following two lines instead of just using the TableToExcel expression, but I did\n",
    "    excel_filename = in_feature + \".xlsx\"\n",
    "    excel_filepath = os.path.join(table_outputs_folder, excel_filename)  # Build the full file path\n",
    "\n",
    "    arcpy.conversion.TableToExcel(\n",
    "        Input_Table= in_feature,\n",
    "        Output_Excel_File= excel_filepath,\n",
    "        Use_field_alias_as_column_header=\"NAME\",\n",
    "        Use_domain_and_subtype_description=\"CODE\"\n",
    "    )\n",
    "    \n",
    "repair_geo_area_export()\n"
   ]
  },
  {
   "cell_type": "code",
   "execution_count": 8,
   "id": "54ffa01f",
   "metadata": {},
   "outputs": [],
   "source": [
    "# Convert the output features to a Pandas DataFrame\n",
    "df_MPA_union = pd.DataFrame.spatial.from_featureclass(\"MPA_dis_Eco_union_Rep1_2\")\n"
   ]
  },
  {
   "cell_type": "code",
   "execution_count": 9,
   "id": "7bcd6029",
   "metadata": {},
   "outputs": [
    {
     "data": {
      "text/html": [
       "<div>\n",
       "<style scoped>\n",
       "    .dataframe tbody tr th:only-of-type {\n",
       "        vertical-align: middle;\n",
       "    }\n",
       "\n",
       "    .dataframe tbody tr th {\n",
       "        vertical-align: top;\n",
       "    }\n",
       "\n",
       "    .dataframe thead th {\n",
       "        text-align: right;\n",
       "    }\n",
       "</style>\n",
       "<table border=\"1\" class=\"dataframe\">\n",
       "  <thead>\n",
       "    <tr style=\"text-align: right;\">\n",
       "      <th></th>\n",
       "      <th>OBJECTID</th>\n",
       "      <th>FID_WDPA_MPA_dis</th>\n",
       "      <th>FID_MEco_mol_Carib</th>\n",
       "      <th>ECOREGION</th>\n",
       "      <th>REALM</th>\n",
       "      <th>PROVINC</th>\n",
       "      <th>TYPE</th>\n",
       "      <th>BIOME</th>\n",
       "      <th>MEOW_PPOW</th>\n",
       "      <th>area</th>\n",
       "      <th>SHAPE</th>\n",
       "    </tr>\n",
       "  </thead>\n",
       "  <tbody>\n",
       "    <tr>\n",
       "      <th>0</th>\n",
       "      <td>1</td>\n",
       "      <td>108</td>\n",
       "      <td>-1</td>\n",
       "      <td></td>\n",
       "      <td></td>\n",
       "      <td></td>\n",
       "      <td></td>\n",
       "      <td></td>\n",
       "      <td></td>\n",
       "      <td>5.805127e-01</td>\n",
       "      <td>{\"hasZ\": true, \"rings\": [[[-7600501.0242, 2949...</td>\n",
       "    </tr>\n",
       "    <tr>\n",
       "      <th>1</th>\n",
       "      <td>2</td>\n",
       "      <td>-1</td>\n",
       "      <td>1</td>\n",
       "      <td></td>\n",
       "      <td>Atlantic Warm Water</td>\n",
       "      <td>Equatorial Atlantic</td>\n",
       "      <td>PPOW</td>\n",
       "      <td>Equatorial</td>\n",
       "      <td>Equatorial Atlantic</td>\n",
       "      <td>5.358515e+05</td>\n",
       "      <td>{\"hasZ\": true, \"rings\": [[[-6011097.5789, 2060...</td>\n",
       "    </tr>\n",
       "    <tr>\n",
       "      <th>2</th>\n",
       "      <td>3</td>\n",
       "      <td>-1</td>\n",
       "      <td>2</td>\n",
       "      <td></td>\n",
       "      <td>Atlantic Warm Water</td>\n",
       "      <td>Gulf Stream</td>\n",
       "      <td>PPOW</td>\n",
       "      <td>Boundary - western</td>\n",
       "      <td>Gulf Stream</td>\n",
       "      <td>6.259979e+04</td>\n",
       "      <td>{\"hasZ\": true, \"rings\": [[[-7164904.4662999995...</td>\n",
       "    </tr>\n",
       "    <tr>\n",
       "      <th>3</th>\n",
       "      <td>4</td>\n",
       "      <td>-1</td>\n",
       "      <td>3</td>\n",
       "      <td></td>\n",
       "      <td>Atlantic Warm Water</td>\n",
       "      <td>Inter American Seas</td>\n",
       "      <td>PPOW</td>\n",
       "      <td>Semi-enclosed sea</td>\n",
       "      <td>Inter American Seas</td>\n",
       "      <td>3.144845e+06</td>\n",
       "      <td>{\"hasZ\": true, \"rings\": [[[-7893280.767999999,...</td>\n",
       "    </tr>\n",
       "    <tr>\n",
       "      <th>4</th>\n",
       "      <td>5</td>\n",
       "      <td>-1</td>\n",
       "      <td>4</td>\n",
       "      <td></td>\n",
       "      <td>Atlantic Warm Water</td>\n",
       "      <td>North Atlantic Transitional</td>\n",
       "      <td>PPOW</td>\n",
       "      <td>Transitional</td>\n",
       "      <td>North Atlantic Transitional</td>\n",
       "      <td>8.884828e+04</td>\n",
       "      <td>{\"hasZ\": true, \"rings\": [[[-6910283.536499999,...</td>\n",
       "    </tr>\n",
       "  </tbody>\n",
       "</table>\n",
       "</div>"
      ],
      "text/plain": [
       "   OBJECTID  FID_WDPA_MPA_dis  FID_MEco_mol_Carib ECOREGION  \\\n",
       "0         1               108                  -1             \n",
       "1         2                -1                   1             \n",
       "2         3                -1                   2             \n",
       "3         4                -1                   3             \n",
       "4         5                -1                   4             \n",
       "\n",
       "                 REALM                      PROVINC  TYPE               BIOME  \\\n",
       "0                                                                               \n",
       "1  Atlantic Warm Water          Equatorial Atlantic  PPOW          Equatorial   \n",
       "2  Atlantic Warm Water                  Gulf Stream  PPOW  Boundary - western   \n",
       "3  Atlantic Warm Water          Inter American Seas  PPOW   Semi-enclosed sea   \n",
       "4  Atlantic Warm Water  North Atlantic Transitional  PPOW        Transitional   \n",
       "\n",
       "                     MEOW_PPOW          area  \\\n",
       "0                               5.805127e-01   \n",
       "1          Equatorial Atlantic  5.358515e+05   \n",
       "2                  Gulf Stream  6.259979e+04   \n",
       "3          Inter American Seas  3.144845e+06   \n",
       "4  North Atlantic Transitional  8.884828e+04   \n",
       "\n",
       "                                               SHAPE  \n",
       "0  {\"hasZ\": true, \"rings\": [[[-7600501.0242, 2949...  \n",
       "1  {\"hasZ\": true, \"rings\": [[[-6011097.5789, 2060...  \n",
       "2  {\"hasZ\": true, \"rings\": [[[-7164904.4662999995...  \n",
       "3  {\"hasZ\": true, \"rings\": [[[-7893280.767999999,...  \n",
       "4  {\"hasZ\": true, \"rings\": [[[-6910283.536499999,...  "
      ]
     },
     "execution_count": 9,
     "metadata": {},
     "output_type": "execute_result"
    }
   ],
   "source": [
    "# Display the DataFrame\n",
    "df_MPA_union.head()"
   ]
  },
  {
   "cell_type": "code",
   "execution_count": 10,
   "id": "4b97be3b",
   "metadata": {},
   "outputs": [
    {
     "name": "stdout",
     "output_type": "stream",
     "text": [
      "                      MEOW_PPOW    Total_area       MPA_area  %MPA_coverage\n",
      "0                                5.805127e-01       0.580513     100.000000\n",
      "1                      Amazonia  8.777461e+01       1.814588       2.067326\n",
      "2                      Bahamian  1.640552e+05   21895.315308      13.346309\n",
      "3                    Carolinian  2.660853e+04     277.478896       1.042820\n",
      "4             Eastern Caribbean  4.470849e+04   14885.648037      33.294901\n",
      "5           Equatorial Atlantic  6.350137e+05   99162.225160      15.615761\n",
      "6                     Floridian  1.286773e+05   16363.335705      12.716567\n",
      "7              Greater Antilles  1.273817e+05   27650.623983      21.706909\n",
      "8                       Guianan  2.012123e+05    3996.976744       1.986447\n",
      "9                   Gulf Stream  6.489038e+04    2290.596446       3.529947\n",
      "10          Inter American Seas  3.339226e+06  194380.567290       5.821127\n",
      "11  North Atlantic Transitional  8.884828e+04       0.000000       0.000000\n",
      "12  North Central Atlantic Gyre  9.491602e+05   50891.248492       5.361713\n",
      "13      Northern Gulf of Mexico  2.650152e+05    8505.148245       3.209306\n",
      "14           Southern Caribbean  1.207235e+05   19128.122504      15.844575\n",
      "15      Southern Gulf of Mexico  2.179833e+05   14932.666573       6.850372\n",
      "16       Southwestern Caribbean  1.739806e+05   18786.813414      10.798223\n",
      "17            Western Caribbean  4.108483e+04   24000.525375      58.416995\n"
     ]
    }
   ],
   "source": [
    "# Make pivot tables\n",
    "pivot_MPA_ecoregion = df_MPA_union.pivot_table(\n",
    "     index = \"MEOW_PPOW\",\n",
    "     values = \"area\",\n",
    "     aggfunc = \"sum\"\n",
    ").reset_index()\n",
    "pivot_MPA_ecoregion.columns = [\"MEOW_PPOW\", \"Total_area\"]\n",
    "#print(pivot_MPA_ecoregion)\n",
    "\n",
    "pivot_MPA = df_MPA_union[df_MPA_union[\"FID_WDPA_MPA_dis\"] != -1].pivot_table(\n",
    "    index = \"MEOW_PPOW\",\n",
    "    values = \"area\",\n",
    "    aggfunc = \"sum\"\n",
    ").reset_index()\n",
    "pivot_MPA.columns = [\"MEOW_PPOW\", \"MPA_area\"]\n",
    "#print(pivot_MPA)\n",
    "\n",
    "# Merge the pivot tables into a single pivot table. The merge should be based on MEOW_PPOW\n",
    "ecoregion_coverage = pd.merge(pivot_MPA_ecoregion, pivot_MPA, on=\"MEOW_PPOW\", how=\"left\", validate = \"1:1\")\n",
    "#print(ecoregion_coverage)\n",
    "\n",
    "#add column for the percent MPA coverage per ecoregion\n",
    "ecoregion_coverage.insert(3, \"%MPA_coverage\", ecoregion_coverage[\"MPA_area\"] / ecoregion_coverage[\"Total_area\"] * 100)\n",
    "#print(ecoregion_coverage)\n",
    "\n",
    "#Replace NaN with 0\n",
    "ecoregion_coverage = ecoregion_coverage.fillna(0)\n",
    "print(ecoregion_coverage)"
   ]
  },
  {
   "cell_type": "code",
   "execution_count": 11,
   "id": "7c3dc59f",
   "metadata": {},
   "outputs": [],
   "source": [
    "#Export to excel\n",
    "\n",
    "table_outputs_folder = r\"F:\\Bex\\ArcGIS\\Ecological_coherence_2023\\Tables\\Representativity\"\n",
    "table = ecoregion_coverage\n",
    "output_name = \"MPA_dis_Eco_union_Rep1_2_results.xlsx\"\n",
    "\n",
    "table.to_excel(os.path.join(table_outputs_folder, output_name))"
   ]
  },
  {
   "cell_type": "markdown",
   "id": "5ec9161b",
   "metadata": {},
   "source": [
    "Note that there is a small gap in the ecoregion layer that shows up as a blank row in the results excel. I think it can be safely ignored."
   ]
  }
 ],
 "metadata": {
  "kernelspec": {
   "display_name": "Python 3 (ipykernel)",
   "language": "python",
   "name": "python3"
  },
  "language_info": {
   "codemirror_mode": {
    "name": "ipython",
    "version": 3
   },
   "file_extension": ".py",
   "mimetype": "text/x-python",
   "name": "python",
   "nbconvert_exporter": "python",
   "pygments_lexer": "ipython3",
   "version": "3.9.16"
  }
 },
 "nbformat": 4,
 "nbformat_minor": 5
}
