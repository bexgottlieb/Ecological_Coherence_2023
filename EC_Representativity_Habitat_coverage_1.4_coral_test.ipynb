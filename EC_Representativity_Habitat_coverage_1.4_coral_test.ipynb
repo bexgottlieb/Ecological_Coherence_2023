{
 "cells": [
  {
   "cell_type": "markdown",
   "id": "68650a6a",
   "metadata": {},
   "source": [
    "# Representativity - Habitat coverage 1.4: TEST WITH JUST CORAL"
   ]
  },
  {
   "cell_type": "markdown",
   "id": "b33d2676",
   "metadata": {},
   "source": [
    "### Import libraries and set up environment"
   ]
  },
  {
   "cell_type": "code",
   "execution_count": 1,
   "id": "7edd94ed",
   "metadata": {},
   "outputs": [
    {
     "name": "stdout",
     "output_type": "stream",
     "text": [
      "1.4.4\n",
      "1.20.1\n",
      "2.1.0.2\n"
     ]
    }
   ],
   "source": [
    "import os\n",
    "import sys\n",
    "\n",
    "import pandas as pd\n",
    "print(pd.__version__)\n",
    "\n",
    "import numpy as np\n",
    "print(np.__version__)\n",
    "\n",
    "import arcpy\n",
    "\n",
    "import arcgis\n",
    "print(arcgis.__version__)\n",
    "\n",
    "from arcgis.gis import GIS\n",
    "from arcgis.mapping import WebMap\n",
    "from arcgis.features import FeatureLayer"
   ]
  },
  {
   "cell_type": "code",
   "execution_count": 2,
   "id": "c77088aa",
   "metadata": {},
   "outputs": [],
   "source": [
    "# Set the workspace and environment settings\n",
    "\n",
    "arcpy.env.workspace = r\"F:\\Bex\\ArcGIS\\Ecological_coherence_2023\\Ecological_coherence_2023.gdb\"\n",
    "arcpy.env.overwriteOutput = True "
   ]
  },
  {
   "cell_type": "code",
   "execution_count": 3,
   "id": "1770c065",
   "metadata": {},
   "outputs": [
    {
     "data": {
      "text/html": [
       "<div class='gpresult'><h2>Messages</h2><div id='messages' data-messages='[\"Start Time: 03 November 2023 11:16:56\",\"Reading Features...\",\"Cracking Features...\",\"Assembling Features...\",\"Succeeded at 03 November 2023 11:17:35 (Elapsed Time: 39.16 seconds)\"]' data-show='true'><div id = 'default' /></div></div>"
      ],
      "text/plain": [
       "<Result 'F:\\\\Bex\\\\ArcGIS\\\\Ecological_coherence_2023\\\\Ecological_coherence_2023.gdb\\\\MPA_30km_habitat_union_Rep1_4_CORAL_TEST'>"
      ]
     },
     "execution_count": 3,
     "metadata": {},
     "output_type": "execute_result"
    }
   ],
   "source": [
    "# Union the dissolved habitat MPA layer with the merged and dissolved CORAL layer\n",
    "\n",
    "in_feature_1 = \"WDPA_30km_dis\"\n",
    "in_feature_2 = \"coral_mol_Carib30_dis\"\n",
    "\n",
    "out_feature = \"\\\\MPA_30km_habitat_union_Rep1_4_CORAL_TEST\"\n",
    "output_gdb = r\"F:\\Bex\\ArcGIS\\Ecological_coherence_2023\\Ecological_coherence_2023.gdb\"\n",
    "\n",
    "arcpy.analysis.Union(\n",
    "    in_features=[in_feature_1,in_feature_2],\n",
    "    out_feature_class= output_gdb + out_feature,\n",
    "    join_attributes=\"ALL\",\n",
    "    cluster_tolerance=None,\n",
    "    gaps=\"GAPS\"\n",
    ")"
   ]
  },
  {
   "cell_type": "code",
   "execution_count": 4,
   "id": "948a71b2",
   "metadata": {},
   "outputs": [],
   "source": [
    "# Repair geoemtry on union, calculate area, and export to excel\n",
    "\n",
    "# Set a folder to store the output tables\n",
    "table_outputs_folder = r\"F:\\Bex\\ArcGIS\\Ecological_coherence_2023\\Tables\\Representativity\"\n",
    "\n",
    "in_feature = \"MPA_30km_habitat_union_Rep1_4_CORAL_TEST\"\n",
    "output_gdb = r\"F:\\Bex\\ArcGIS\\Ecological_coherence_2023\\Ecological_coherence_2023.gdb\"\n",
    "\n",
    "def repair_geo_area_export():\n",
    "    #repair geometry\n",
    "    arcpy.management.RepairGeometry(\n",
    "        in_features= in_feature,\n",
    "        delete_null=\"DELETE_NULL\",\n",
    "        validation_method=\"OGC\"\n",
    "    )\n",
    "            \n",
    "    # insert \"area\" field (double) and calculate area in km2 in Mollweide\n",
    "    arcpy.management.CalculateGeometryAttributes(\n",
    "        in_features= in_feature,\n",
    "        geometry_property=\"area AREA\",\n",
    "        length_unit=\"\",\n",
    "        area_unit=\"SQUARE_KILOMETERS\",\n",
    "        coordinate_system='PROJCS[\"World_Mollweide\",GEOGCS[\"GCS_WGS_1984\",DATUM[\"D_WGS_1984\",SPHEROID[\"WGS_1984\",6378137.0,298.257223563]],PRIMEM[\"Greenwich\",0.0],UNIT[\"Degree\",0.0174532925199433]],PROJECTION[\"Mollweide\"],PARAMETER[\"False_Easting\",0.0],PARAMETER[\"False_Northing\",0.0],PARAMETER[\"Central_Meridian\",0.0],UNIT[\"Meter\",1.0]]',\n",
    "        coordinate_format=\"SAME_AS_INPUT\"\n",
    "    )\n",
    "    \n",
    "    # Export tables to excel\n",
    "    # Not sure why I had to use the following two lines instead of just using the TableToExcel expression, but I did\n",
    "    excel_filename = in_feature + \".xlsx\"\n",
    "    excel_filepath = os.path.join(table_outputs_folder, excel_filename)  # Build the full file path\n",
    "\n",
    "    arcpy.conversion.TableToExcel(\n",
    "        Input_Table= in_feature,\n",
    "        Output_Excel_File= excel_filepath,\n",
    "        Use_field_alias_as_column_header=\"NAME\",\n",
    "        Use_domain_and_subtype_description=\"CODE\"\n",
    "    )\n",
    "    \n",
    "repair_geo_area_export()\n"
   ]
  },
  {
   "cell_type": "code",
   "execution_count": 5,
   "id": "54ffa01f",
   "metadata": {},
   "outputs": [],
   "source": [
    "# Convert the output features to a Pandas DataFrame\n",
    "df_MPA_union = pd.DataFrame.spatial.from_featureclass(\"MPA_30km_habitat_union_Rep1_4_CORAL_TEST\")\n"
   ]
  },
  {
   "cell_type": "code",
   "execution_count": 6,
   "id": "7bcd6029",
   "metadata": {},
   "outputs": [
    {
     "data": {
      "text/html": [
       "<div>\n",
       "<style scoped>\n",
       "    .dataframe tbody tr th:only-of-type {\n",
       "        vertical-align: middle;\n",
       "    }\n",
       "\n",
       "    .dataframe tbody tr th {\n",
       "        vertical-align: top;\n",
       "    }\n",
       "\n",
       "    .dataframe thead th {\n",
       "        text-align: right;\n",
       "    }\n",
       "</style>\n",
       "<table border=\"1\" class=\"dataframe\">\n",
       "  <thead>\n",
       "    <tr style=\"text-align: right;\">\n",
       "      <th></th>\n",
       "      <th>OBJECTID</th>\n",
       "      <th>FID_WDPA_30km_dis</th>\n",
       "      <th>FID_coral_mol_Carib30_dis</th>\n",
       "      <th>Habitat</th>\n",
       "      <th>area</th>\n",
       "      <th>SHAPE</th>\n",
       "    </tr>\n",
       "  </thead>\n",
       "  <tbody>\n",
       "    <tr>\n",
       "      <th>0</th>\n",
       "      <td>1</td>\n",
       "      <td>1</td>\n",
       "      <td>-1</td>\n",
       "      <td></td>\n",
       "      <td>355.435344</td>\n",
       "      <td>{\"rings\": [[[-7912339.7958, 3691634.6744999997...</td>\n",
       "    </tr>\n",
       "    <tr>\n",
       "      <th>1</th>\n",
       "      <td>2</td>\n",
       "      <td>2</td>\n",
       "      <td>-1</td>\n",
       "      <td></td>\n",
       "      <td>0.156941</td>\n",
       "      <td>{\"rings\": [[[-9046012.3971, 3366611.0735], [-9...</td>\n",
       "    </tr>\n",
       "    <tr>\n",
       "      <th>2</th>\n",
       "      <td>3</td>\n",
       "      <td>3</td>\n",
       "      <td>-1</td>\n",
       "      <td></td>\n",
       "      <td>34.697292</td>\n",
       "      <td>{\"rings\": [[[-7983853.1789, 3718837.932499999]...</td>\n",
       "    </tr>\n",
       "    <tr>\n",
       "      <th>3</th>\n",
       "      <td>4</td>\n",
       "      <td>4</td>\n",
       "      <td>-1</td>\n",
       "      <td></td>\n",
       "      <td>73805.240577</td>\n",
       "      <td>{\"rings\": [[[-8535044.4214, 2221126.579399999]...</td>\n",
       "    </tr>\n",
       "    <tr>\n",
       "      <th>4</th>\n",
       "      <td>5</td>\n",
       "      <td>5</td>\n",
       "      <td>-1</td>\n",
       "      <td></td>\n",
       "      <td>1.486187</td>\n",
       "      <td>{\"rings\": [[[-7871791.334000001, 2377738.90110...</td>\n",
       "    </tr>\n",
       "  </tbody>\n",
       "</table>\n",
       "</div>"
      ],
      "text/plain": [
       "   OBJECTID  FID_WDPA_30km_dis  FID_coral_mol_Carib30_dis Habitat  \\\n",
       "0         1                  1                         -1           \n",
       "1         2                  2                         -1           \n",
       "2         3                  3                         -1           \n",
       "3         4                  4                         -1           \n",
       "4         5                  5                         -1           \n",
       "\n",
       "           area                                              SHAPE  \n",
       "0    355.435344  {\"rings\": [[[-7912339.7958, 3691634.6744999997...  \n",
       "1      0.156941  {\"rings\": [[[-9046012.3971, 3366611.0735], [-9...  \n",
       "2     34.697292  {\"rings\": [[[-7983853.1789, 3718837.932499999]...  \n",
       "3  73805.240577  {\"rings\": [[[-8535044.4214, 2221126.579399999]...  \n",
       "4      1.486187  {\"rings\": [[[-7871791.334000001, 2377738.90110...  "
      ]
     },
     "execution_count": 6,
     "metadata": {},
     "output_type": "execute_result"
    }
   ],
   "source": [
    "# Display the DataFrame\n",
    "df_MPA_union.head()"
   ]
  },
  {
   "cell_type": "code",
   "execution_count": 8,
   "id": "4b97be3b",
   "metadata": {},
   "outputs": [
    {
     "name": "stdout",
     "output_type": "stream",
     "text": [
      "  Habitat  Total_habitat_area\n",
      "0               693322.377991\n",
      "1   coral        13308.274663\n",
      "  Habitat  MPA_habitat_int_area\n",
      "0   coral           5640.664727\n",
      "  Habitat  Total_habitat_area  MPA_habitat_int_area\n",
      "0               693322.377991                   NaN\n",
      "1   coral        13308.274663           5640.664727\n",
      "  Habitat  Total_habitat_area  MPA_habitat_int_area  %MPA_coverage\n",
      "0               693322.377991                   NaN            NaN\n",
      "1   coral        13308.274663           5640.664727      42.384643\n"
     ]
    }
   ],
   "source": [
    "# Reminder to double check this code and double check the union by doing a sample intersection with coral\n",
    "\n",
    "# Make pivot tables\n",
    "pivot_habitat = df_MPA_union.pivot_table(\n",
    "     index = \"Habitat\",\n",
    "     values = \"area\",\n",
    "     aggfunc = \"sum\"\n",
    ").reset_index()\n",
    "pivot_habitat.columns = [\"Habitat\", \"Total_habitat_area\"]\n",
    "print(pivot_habitat)\n",
    "\n",
    "# pivot_KBA_EBSA = df_MPA_union[df_MPA_union[\"FID_KBA_EBSA_mol_Carib_dis\"] != -1].pivot_table(\n",
    "#     index = \"Subregion\",\n",
    "#     values = \"Area\",\n",
    "#     aggfunc = \"sum\"\n",
    "# ).reset_index()\n",
    "# pivot_KBA_EBSA.columns = [\"Subregion\", \"KBA_EBSA_area\"]\n",
    "# #print(pivot_KBA_EBSA)\n",
    "\n",
    "# pivot_MPA = df_MPA_union[df_MPA_union[\"FID_WDPA_30km_dis\"] != -1].pivot_table(\n",
    "#     index = \"Habitat\",\n",
    "#     values = \"area\",\n",
    "#     aggfunc = \"sum\"\n",
    "# ).reset_index()\n",
    "# pivot_MPA.columns = [\"Habitat\", \"MPA_area\"]\n",
    "# print(pivot_MPA)\n",
    "\n",
    "pivot_MPA_habitat_int = df_MPA_union[(df_MPA_union[\"FID_WDPA_30km_dis\"] != -1) & (df_MPA_union[\"FID_coral_mol_Carib30_dis\"] != -1)].pivot_table(\n",
    "    index = \"Habitat\",\n",
    "    values = \"area\",\n",
    "    aggfunc = \"sum\"\n",
    ").reset_index()\n",
    "pivot_MPA_habitat_int.columns = [\"Habitat\", \"MPA_habitat_int_area\"]\n",
    "print(pivot_MPA_habitat_int)\n",
    "\n",
    "# Merge the pivot tables into a single pivot table. The merge should be based on Habitat\n",
    "habitat_coverage = pd.merge(pivot_habitat, pivot_MPA_habitat_int, on=\"Habitat\", how=\"left\", validate = \"1:1\")\n",
    "print(habitat_coverage)\n",
    "\n",
    "# KBA_EBSA_coverage = pd.merge(KBA_EBSA_coverage, pivot_KBA_EBSA, on=\"Subregion\", how=\"left\", validate = \"1:1\")\n",
    "# KBA_EBSA_coverage = pd.merge(KBA_EBSA_coverage, pivot_MPA_KBA_EBSA_int, on=\"Subregion\", how=\"left\", validate = \"1:1\")\n",
    "\n",
    "\n",
    "#add column for the percent MPA coverage per habitat\n",
    "habitat_coverage.insert(3, \"%MPA_coverage\", habitat_coverage[\"MPA_habitat_int_area\"] / habitat_coverage[\"Total_habitat_area\"] * 100)\n",
    "print(habitat_coverage)\n"
   ]
  },
  {
   "cell_type": "code",
   "execution_count": 10,
   "id": "7c3dc59f",
   "metadata": {},
   "outputs": [],
   "source": [
    "#Export to excel\n",
    "\n",
    "table_outputs_folder = r\"F:\\Bex\\ArcGIS\\Ecological_coherence_2023\\Tables\\Representativity\"\n",
    "table = habitat_coverage\n",
    "output_name = \"MPA_30km_habitat_union_Rep1_4_CORAL_TEST_results.xlsx\"\n",
    "\n",
    "table.to_excel(os.path.join(table_outputs_folder, output_name))"
   ]
  }
 ],
 "metadata": {
  "kernelspec": {
   "display_name": "Python 3 (ipykernel)",
   "language": "python",
   "name": "python3"
  },
  "language_info": {
   "codemirror_mode": {
    "name": "ipython",
    "version": 3
   },
   "file_extension": ".py",
   "mimetype": "text/x-python",
   "name": "python",
   "nbconvert_exporter": "python",
   "pygments_lexer": "ipython3",
   "version": "3.9.16"
  }
 },
 "nbformat": 4,
 "nbformat_minor": 5
}
