{
 "cells": [
  {
   "cell_type": "markdown",
   "id": "737e9bb9",
   "metadata": {},
   "source": [
    "# Prepare WDPA Input Data\n"
   ]
  },
  {
   "cell_type": "markdown",
   "id": "cc429e0b",
   "metadata": {},
   "source": [
    "### Import libraries and set up environment"
   ]
  },
  {
   "cell_type": "code",
   "execution_count": 1,
   "id": "cda86630",
   "metadata": {},
   "outputs": [
    {
     "name": "stdout",
     "output_type": "stream",
     "text": [
      "1.4.4\n",
      "1.20.1\n",
      "2.1.0.2\n"
     ]
    }
   ],
   "source": [
    "import os\n",
    "import sys\n",
    "\n",
    "import pandas as pd\n",
    "print(pd.__version__)\n",
    "\n",
    "import numpy as np\n",
    "print(np.__version__)\n",
    "\n",
    "import arcpy\n",
    "\n",
    "import arcgis\n",
    "print(arcgis.__version__)\n",
    "\n",
    "from arcgis.gis import GIS\n",
    "from arcgis.mapping import WebMap\n",
    "from arcgis.features import FeatureLayer"
   ]
  },
  {
   "cell_type": "code",
   "execution_count": 2,
   "id": "39b88e0b",
   "metadata": {},
   "outputs": [],
   "source": [
    "# Set the workspace and environment settings\n",
    "\n",
    "arcpy.env.workspace = r\"F:\\Bex\\ArcGIS\\Ecological_coherence_2023\\Ecological_coherence_2023.gdb\"\n",
    "arcpy.env.overwriteOutput = True "
   ]
  },
  {
   "cell_type": "code",
   "execution_count": null,
   "id": "79780114",
   "metadata": {},
   "outputs": [],
   "source": [
    "# Make sure Carib_mol_30km is in the project (made in EC_study_area_prep)\n",
    "# Make sure Caribbean_detailed_subregions_mol is in the project (made in EC_study_area_prep)"
   ]
  },
  {
   "cell_type": "code",
   "execution_count": 4,
   "id": "ebc6878d",
   "metadata": {},
   "outputs": [
    {
     "data": {
      "text/html": [
       "<div class='gpresult'><h2>Messages</h2><div id='messages' data-messages='[\"Start Time: 20 September 2023 10:53:05\",\"O:/f00_data/Protected_Planet_Initiative/WDPA_Monthly_Versions/Previous WDPA Versions/2023/September_2023/WDPA_Sep2023_Public.gdb/WDPA_poly_Sep2023 Successfully converted:  F:\\\\Bex\\\\ArcGIS\\\\Ecological_coherence_2023\\\\Ecological_coherence_2023.gdb\\\\WDPA_poly_Sep2023\",\"O:/f00_data/Protected_Planet_Initiative/WDPA_Monthly_Versions/Previous WDPA Versions/2023/September_2023/WDPA_Sep2023_Public.gdb/WDPA_point_Sep2023 Successfully converted:  F:\\\\Bex\\\\ArcGIS\\\\Ecological_coherence_2023\\\\Ecological_coherence_2023.gdb\\\\WDPA_point_Sep2023\",\"Succeeded at 20 September 2023 10:54:00 (Elapsed Time: 54.69 seconds)\"]' data-show='true'><div id = 'default' /></div></div>"
      ],
      "text/plain": [
       "<Result 'F:\\\\Bex\\\\ArcGIS\\\\Ecological_coherence_2023\\\\Ecological_coherence_2023.gdb'>"
      ]
     },
     "execution_count": 4,
     "metadata": {},
     "output_type": "execute_result"
    }
   ],
   "source": [
    "#Add the polygon and point September 2023 WDPA data from the O drive to the ArcGIS project\n",
    "\n",
    "output_gdb = r\"F:\\Bex\\ArcGIS\\Ecological_coherence_2023\\Ecological_coherence_2023.gdb\"\n",
    "arcpy.conversion.FeatureClassToGeodatabase(['O:/f00_data/Protected_Planet_Initiative/WDPA_Monthly_Versions/Previous WDPA Versions/2023/September_2023/WDPA_Sep2023_Public.gdb/WDPA_poly_Sep2023', 'O:/f00_data/Protected_Planet_Initiative/WDPA_Monthly_Versions/Previous WDPA Versions/2023/September_2023/WDPA_Sep2023_Public.gdb/WDPA_point_Sep2023'],\n",
    "                                           output_gdb)"
   ]
  },
  {
   "cell_type": "code",
   "execution_count": 14,
   "id": "5d5e8fb2",
   "metadata": {},
   "outputs": [],
   "source": [
    "# Buffer points of the WDPA to be size of Rep_Area\n",
    "\n",
    "points = \"WDPA_point_Sep2023\"\n",
    "out_feature = \"\\\\WDPA_pt_Mol_buf\"\n",
    "output_gdb = r\"F:\\Bex\\ArcGIS\\Ecological_coherence_2023\\Ecological_coherence_2023.gdb\"\n",
    "\n",
    "def buffer_points(points):\n",
    "    #Project to Mollweide (WDPA_pt_Mol)\n",
    "    arcpy.management.Project(points, \"WDPA_pt_Mol\", 'PROJCS[\"World_Mollweide\",GEOGCS[\"GCS_WGS_1984\",DATUM[\"D_WGS_1984\",SPHEROID[\"WGS_1984\",6378137.0,298.257223563]],PRIMEM[\"Greenwich\",0.0],UNIT[\"Degree\",0.0174532925199433]],PROJECTION[\"Mollweide\"],PARAMETER[\"False_Easting\",0.0],PARAMETER[\"False_Northing\",0.0],PARAMETER[\"Central_Meridian\",0.0],UNIT[\"Meter\",1.0]]', None, 'GEOGCS[\"GCS_WGS_1984\",DATUM[\"D_WGS_1984\",SPHEROID[\"WGS_1984\",6378137.0,298.257223563]],PRIMEM[\"Greenwich\",0.0],UNIT[\"Degree\",0.0174532925199433]]', \"NO_PRESERVE_SHAPE\", None, \"NO_VERTICAL\")\n",
    "    \n",
    "    #Calculate radius of buffer on WDPA_pt_Mol layer\n",
    "    #math.sqrt(!REP_AREA!/math.pi)*1000\n",
    "    arcpy.management.CalculateField(\"WDPA_pt_Mol\", \"radius\", \"math.sqrt(!REP_AREA!/math.pi)*1000\", \"PYTHON3\")\n",
    "\n",
    "    #buffer to radius.\n",
    "    #points without area were automatically removed\n",
    "    arcpy.analysis.Buffer(\"WDPA_pt_Mol\", output_gdb + out_feature, \"radius\", \"FULL\", \"ROUND\", \"NONE\", None, \"PLANAR\")\n",
    "\n",
    "    #checked area to make sure it matched (field called area. calc in mollweide, area in sq km)\n",
    "    arcpy.management.CalculateGeometryAttributes(out_feature, \"area AREA\", '', \"SQUARE_KILOMETERS\", 'PROJCS[\"World_Mollweide\",GEOGCS[\"GCS_WGS_1984\",DATUM[\"D_WGS_1984\",SPHEROID[\"WGS_1984\",6378137.0,298.257223563]],PRIMEM[\"Greenwich\",0.0],UNIT[\"Degree\",0.0174532925199433]],PROJECTION[\"Mollweide\"],PARAMETER[\"False_Easting\",0.0],PARAMETER[\"False_Northing\",0.0],PARAMETER[\"Central_Meridian\",0.0],UNIT[\"Meter\",1.0]]', \"SAME_AS_INPUT\")\n",
    "\n",
    "buffer_points(points)"
   ]
  },
  {
   "cell_type": "code",
   "execution_count": 15,
   "id": "2b433010",
   "metadata": {},
   "outputs": [],
   "source": [
    "# Append the point layer to the polygon layer\n",
    "\n",
    "buffered_points = \"WDPA_pt_Mol_buf\"\n",
    "poly = \"WDPA_poly_Sep2023\"\n",
    "\n",
    "def append_points_to_poly():\n",
    "    #Project to Mollweide\n",
    "    arcpy.management.Project(poly, output_gdb + \"\\\\WDPA_poly_Mol\", 'PROJCS[\"World_Mollweide\",GEOGCS[\"GCS_WGS_1984\",DATUM[\"D_WGS_1984\",SPHEROID[\"WGS_1984\",6378137.0,298.257223563]],PRIMEM[\"Greenwich\",0.0],UNIT[\"Degree\",0.0174532925199433]],PROJECTION[\"Mollweide\"],PARAMETER[\"False_Easting\",0.0],PARAMETER[\"False_Northing\",0.0],PARAMETER[\"Central_Meridian\",0.0],UNIT[\"Meter\",1.0]]', None, 'GEOGCS[\"GCS_WGS_1984\",DATUM[\"D_WGS_1984\",SPHEROID[\"WGS_1984\",6378137.0,298.257223563]],PRIMEM[\"Greenwich\",0.0],UNIT[\"Degree\",0.0174532925199433]]', \"NO_PRESERVE_SHAPE\", None, \"NO_VERTICAL\")\n",
    "\n",
    "    #repair geometry\n",
    "    arcpy.management.RepairGeometry(\"WDPA_poly_Mol\", \"DELETE_NULL\", \"OGC\")\n",
    "    \n",
    "    #rename it as WDPA_all to get ready to append it with points\n",
    "    arcpy.conversion.ExportFeatures(\"WDPA_poly_Mol\", output_gdb + \"\\\\WDPA_all\")\n",
    "    \n",
    "    #Append the WDPA_all with the point layer (WDPA_pt_Mol_buf). \n",
    "    #Note that append worked better than merge because merge didn't keep the attributes of the points\n",
    "    arcpy.management.Append(buffered_points, \"WDPA_all\", \"NO_TEST\")\n",
    "    \n",
    "    #repair geometry\n",
    "    arcpy.management.RepairGeometry(\"WDPA_all\", \"DELETE_NULL\", \"OGC\")\n",
    "\n",
    "append_points_to_poly()"
   ]
  },
  {
   "cell_type": "code",
   "execution_count": 16,
   "id": "66104659",
   "metadata": {},
   "outputs": [],
   "source": [
    "# Exclude sites not used in the analysis\n",
    "# Exclude all sites that are proposed or not-reported.\n",
    "# Remove MABs\n",
    "\n",
    "in_feature = \"WDPA_all\"\n",
    "out_feature = \"\\\\WDPA\"\n",
    "output_gdb = r\"F:\\Bex\\ArcGIS\\Ecological_coherence_2023\\Ecological_coherence_2023.gdb\"\n",
    "\n",
    "def remove_sites():\n",
    "    #first remove sites with status proposed or not-reported.\n",
    "    arcpy.conversion.ExportFeatures(in_feature, output_gdb + \"\\\\WDPA_RemovePropNR\", \"STATUS <> 'Proposed' AND STATUS <> 'Not Reported'\" )\n",
    "\n",
    "    #Then remove PAs that are MABs\n",
    "    arcpy.conversion.ExportFeatures(\"WDPA_RemovePropNR\", output_gdb + out_feature, \"DESIG_ENG NOT LIKE '%UNESCO-MAB%'\" )\n",
    "    \n",
    "    #This final layer is called WDPA\n",
    "    #Repair geometry on the WDPA layer\n",
    "    arcpy.management.RepairGeometry(out_feature, \"DELETE_NULL\", \"OGC\")\n",
    "\n",
    "remove_sites()\n"
   ]
  },
  {
   "cell_type": "markdown",
   "id": "7ed69298",
   "metadata": {},
   "source": [
    "### Make the habitat MPA layer"
   ]
  },
  {
   "cell_type": "code",
   "execution_count": 12,
   "id": "10fd102c",
   "metadata": {},
   "outputs": [
    {
     "data": {
      "text/html": [
       "<div class='gpresult'><h2>Messages</h2><div id='messages' data-messages='[\"Start Time: 22 September 2023 11:02:46\",\"Reading Features...\",\"Cracking Features...\",\"Assembling Features...\",\"Succeeded at 22 September 2023 11:27:53 (Elapsed Time: 25 minutes 6 seconds)\"]' data-show='true'><div id = 'default' /></div></div>"
      ],
      "text/plain": [
       "<Result 'F:\\\\Bex\\\\ArcGIS\\\\Ecological_coherence_2023\\\\Ecological_coherence_2023.gdb\\\\\\\\WDPA_30km'>"
      ]
     },
     "execution_count": 12,
     "metadata": {},
     "output_type": "execute_result"
    }
   ],
   "source": [
    "# Clip the WDPA layer to the study area buffered by 30 km\n",
    "# This will just be used for the habitat analysis\n",
    "\n",
    "in_feature = \"WDPA\"\n",
    "clip_feature = \"Carib_mol_30km\"\n",
    "out_feature = \"\\\\WDPA_30km\"\n",
    "output_gdb = r\"F:\\Bex\\ArcGIS\\Ecological_coherence_2023\\Ecological_coherence_2023.gdb\"\n",
    "\n",
    "arcpy.analysis.Clip(in_feature, clip_feature, out_feature)"
   ]
  },
  {
   "cell_type": "code",
   "execution_count": 13,
   "id": "fe4ebe23",
   "metadata": {},
   "outputs": [
    {
     "data": {
      "text/html": [
       "<div class='gpresult'><h2>Messages</h2><div id='messages' data-messages='[\"Start Time: 22 September 2023 11:45:32\",\"Dissolving...\",\"Succeeded at 22 September 2023 11:45:46 (Elapsed Time: 13.51 seconds)\"]' data-show='true'><div id = 'default' /></div></div>"
      ],
      "text/plain": [
       "<Result 'F:\\\\Bex\\\\ArcGIS\\\\Ecological_coherence_2023\\\\Ecological_coherence_2023.gdb\\\\WDPA_30km_dis'>"
      ]
     },
     "execution_count": 13,
     "metadata": {},
     "output_type": "execute_result"
    }
   ],
   "source": [
    "# Dissolve the WDPA_30km for a flat layer\n",
    "# Make them single part for faster processing\n",
    "# this will just be used for the habitat analysis\n",
    "\n",
    "in_feature = \"WDPA_30km\"\n",
    "out_feature = \"\\\\WDPA_30km_dis\"\n",
    "output_gdb = r\"F:\\Bex\\ArcGIS\\Ecological_coherence_2023\\Ecological_coherence_2023.gdb\"\n",
    "\n",
    "arcpy.analysis.PairwiseDissolve(\n",
    "    in_features= in_feature,\n",
    "    out_feature_class= output_gdb + out_feature,\n",
    "    dissolve_field=None,\n",
    "    statistics_fields=None,\n",
    "    multi_part=\"SINGLE_PART\",\n",
    "    concatenation_separator=\"\"\n",
    ")\n"
   ]
  },
  {
   "cell_type": "markdown",
   "id": "9744cd98",
   "metadata": {},
   "source": [
    "### Make the main MPA layer"
   ]
  },
  {
   "cell_type": "code",
   "execution_count": 4,
   "id": "299abf81",
   "metadata": {},
   "outputs": [],
   "source": [
    "# Select the PAs that intersect with the study area.\n",
    "\n",
    "in_feature = \"WDPA\"\n",
    "select_feature = \"Caribbean_detailed_subregions_mol\"\n",
    "out_feature = \"\\\\WDPA_Carib_int\"\n",
    "output_gdb = r\"F:\\Bex\\ArcGIS\\Ecological_coherence_2023\\Ecological_coherence_2023.gdb\"\n",
    "\n",
    "def intersecting_PAs():\n",
    "    # Select PAs that intersect with the study area\n",
    "    selection = arcpy.management.SelectLayerByLocation(\n",
    "        in_layer= in_feature,\n",
    "        overlap_type=\"INTERSECT\",\n",
    "        select_features= select_feature,\n",
    "        search_distance=None,\n",
    "        selection_type=\"NEW_SELECTION\",\n",
    "        invert_spatial_relationship=\"NOT_INVERT\"\n",
    "    )\n",
    "        \n",
    "    # make a new layer from the selection\n",
    "    arcpy.conversion.ExportFeatures(\n",
    "        in_features= selection,\n",
    "        out_features= output_gdb + out_feature,\n",
    "        where_clause=\"\",\n",
    "        use_field_alias_as_name=\"NOT_USE_ALIAS\",\n",
    "        sort_field=None\n",
    "    )\n",
    "    #arcpy.conversion.ExportFeatures(in_feature, output_gdb + out_feature)\n",
    "    \n",
    "intersecting_PAs()\n"
   ]
  },
  {
   "cell_type": "code",
   "execution_count": 5,
   "id": "c3f5b83d",
   "metadata": {},
   "outputs": [
    {
     "data": {
      "text/html": [
       "<div class='gpresult'><h2>Messages</h2><div id='messages' data-messages='[\"Start Time: 20 September 2023 14:51:52\",\"Reading Features...\",\"Cracking Features...\",\"Assembling Features...\",\"Succeeded at 20 September 2023 14:58:23 (Elapsed Time: 6 minutes 31 seconds)\"]' data-show='true'><div id = 'default' /></div></div>"
      ],
      "text/plain": [
       "<Result 'F:\\\\Bex\\\\ArcGIS\\\\Ecological_coherence_2023\\\\Ecological_coherence_2023.gdb\\\\\\\\WDPA_Carib_CoastClip'>"
      ]
     },
     "execution_count": 5,
     "metadata": {},
     "output_type": "execute_result"
    }
   ],
   "source": [
    "# Clip the WDPA_Carib_int to just the coast\n",
    "\n",
    "in_feature = \"WDPA_Carib_int\"\n",
    "clip_feature = \"Caribbean_detailed_subregions_mol\"\n",
    "out_feature = \"\\\\WDPA_Carib_CoastClip\"\n",
    "output_gdb = r\"F:\\Bex\\ArcGIS\\Ecological_coherence_2023\\Ecological_coherence_2023.gdb\"\n",
    "\n",
    "arcpy.analysis.Clip(in_feature, clip_feature, out_feature)\n",
    "\n"
   ]
  },
  {
   "cell_type": "code",
   "execution_count": 6,
   "id": "c8e16369",
   "metadata": {},
   "outputs": [
    {
     "data": {
      "text/html": [
       "<div class='gpresult'><h2>Messages</h2><div id='messages' data-messages='[\"Start Time: 20 September 2023 15:31:34\",\"Succeeded at 20 September 2023 15:31:45 (Elapsed Time: 10.83 seconds)\"]' data-show='true'><div id = 'default' /></div></div>"
      ],
      "text/plain": [
       "<Result 'F:\\\\Bex\\\\ArcGIS\\\\Ecological_coherence_2023\\\\Ecological_coherence_2023.gdb\\\\WDPA_Carib_int'>"
      ]
     },
     "execution_count": 6,
     "metadata": {},
     "output_type": "execute_result"
    }
   ],
   "source": [
    "# Calculate the area (in hectares) of the PAs in WDPA_Carib_CoastClip and in WDPA_Carib_int\n",
    "# insert \"area\" field (double) to all six intersections and calculate area in km2 in Mollweide\n",
    "\n",
    "arcpy.management.CalculateGeometryAttributes(\n",
    "    in_features= \"WDPA_Carib_CoastClip\",\n",
    "    geometry_property=\"marine_area_ha AREA\",\n",
    "    length_unit=\"\",\n",
    "    area_unit=\"HECTARES\",\n",
    "    coordinate_system='PROJCS[\"World_Mollweide\",GEOGCS[\"GCS_WGS_1984\",DATUM[\"D_WGS_1984\",SPHEROID[\"WGS_1984\",6378137.0,298.257223563]],PRIMEM[\"Greenwich\",0.0],UNIT[\"Degree\",0.0174532925199433]],PROJECTION[\"Mollweide\"],PARAMETER[\"False_Easting\",0.0],PARAMETER[\"False_Northing\",0.0],PARAMETER[\"Central_Meridian\",0.0],UNIT[\"Meter\",1.0]]',\n",
    "    coordinate_format=\"SAME_AS_INPUT\"\n",
    ")\n",
    "\n",
    "arcpy.management.CalculateGeometryAttributes(\n",
    "    in_features= \"WDPA_Carib_int\",\n",
    "    geometry_property=\"total_area_ha AREA\",\n",
    "    length_unit=\"\",\n",
    "    area_unit=\"HECTARES\",\n",
    "    coordinate_system='PROJCS[\"World_Mollweide\",GEOGCS[\"GCS_WGS_1984\",DATUM[\"D_WGS_1984\",SPHEROID[\"WGS_1984\",6378137.0,298.257223563]],PRIMEM[\"Greenwich\",0.0],UNIT[\"Degree\",0.0174532925199433]],PROJECTION[\"Mollweide\"],PARAMETER[\"False_Easting\",0.0],PARAMETER[\"False_Northing\",0.0],PARAMETER[\"Central_Meridian\",0.0],UNIT[\"Meter\",1.0]]',\n",
    "    coordinate_format=\"SAME_AS_INPUT\"\n",
    ")"
   ]
  },
  {
   "cell_type": "code",
   "execution_count": null,
   "id": "a8530d21",
   "metadata": {},
   "outputs": [],
   "source": [
    "# Join the new areas field in WDPA_Carib_int to the WDPA_Carib_CoastClip layer.\n",
    "# Join based on WDPA_PID\n",
    "# Using field mapping, only keep the \"total_area_ha\" field from the join table\n",
    "\n",
    "arcpy.management.JoinField(\n",
    "    in_data=\"WDPA_Carib_CoastClip\",\n",
    "    in_field=\"WDPA_PID\",\n",
    "    join_table=\"WDPA_Carib_int\",\n",
    "    join_field=\"WDPA_PID\",\n",
    "    fields=None,\n",
    "    fm_option=\"USE_FM\",\n",
    "    field_mapping='total_area_ha \"total_area_ha\" true true false 8 Double 0 0,First,#,WDPA_Carib_int,total_area_ha,-1,-1'\n",
    ")"
   ]
  },
  {
   "cell_type": "code",
   "execution_count": 8,
   "id": "5d9b513b",
   "metadata": {},
   "outputs": [
    {
     "data": {
      "text/html": [
       "<div class='gpresult'><h2>Messages</h2><div id='messages' data-messages='[\"Start Time: 20 September 2023 16:10:47\",\"Succeeded at 20 September 2023 16:10:48 (Elapsed Time: 0.70 seconds)\"]' data-show='true'><div id = 'default' /></div></div>"
      ],
      "text/plain": [
       "<Result 'F:\\\\Bex\\\\ArcGIS\\\\Ecological_coherence_2023\\\\Ecological_coherence_2023.gdb\\\\WDPA_Carib_CoastClip_join'>"
      ]
     },
     "execution_count": 8,
     "metadata": {},
     "output_type": "execute_result"
    }
   ],
   "source": [
    "# Make join permenant by exporting the data\n",
    "\n",
    "in_feature = \"WDPA_Carib_CoastClip\"\n",
    "out_feature = \"\\\\WDPA_Carib_CoastClip_join\"\n",
    "output_gdb = r\"F:\\Bex\\ArcGIS\\Ecological_coherence_2023\\Ecological_coherence_2023.gdb\"\n",
    "\n",
    "arcpy.conversion.ExportFeatures(\n",
    "    in_features= in_feature,\n",
    "    out_features= output_gdb + out_feature,\n",
    "    where_clause=\"\",\n",
    "    use_field_alias_as_name=\"NOT_USE_ALIAS\",\n",
    "    sort_field=None\n",
    ")"
   ]
  },
  {
   "cell_type": "code",
   "execution_count": null,
   "id": "b922049f",
   "metadata": {},
   "outputs": [],
   "source": [
    "# Add a new field in WDPA_Carib_CoastClip_join to Calculate percent marine area\n",
    "\n",
    "arcpy.management.CalculateField(\n",
    "    in_table=\"WDPA_Carib_CoastClip_join\",\n",
    "    field=\"Percent_marine_area\",\n",
    "    expression=\"!marine_area_ha! / !total_area_ha! * 100\",\n",
    "    expression_type=\"PYTHON3\",\n",
    "    code_block=\"\",\n",
    "    field_type=\"DOUBLE\",\n",
    "    enforce_domains=\"NO_ENFORCE_DOMAINS\"\n",
    ")"
   ]
  },
  {
   "cell_type": "markdown",
   "id": "5b0d3c3a",
   "metadata": {},
   "source": [
    "Note that I wasn't sure how to deal with PAs with multiple parcels in terms of deciding if parcels should be considered together or seperately when determining if they are MPAs. But I checked, and there are only two PAs with multiple parcels, and in both cases, either way they would be considered MPAs."
   ]
  },
  {
   "cell_type": "code",
   "execution_count": null,
   "id": "e14fa3a2",
   "metadata": {},
   "outputs": [],
   "source": [
    "# Add a field to determine if the polygon should be considered an MPA\n",
    "# The clipped marine portion of coast-overlapping sites were identified as MPAs in this assessment if\n",
    "# more than 100 hectares of the site fell in the marine environment,\n",
    "# or more than 10 hectares of the site fell in the marine environment and this represented more than 30% of the site\n",
    "\n",
    "arcpy.management.CalculateField(\n",
    "    in_table=\"WDPA_Carib_CoastClip_join\",\n",
    "    field=\"MPA\",\n",
    "    expression=\"mpa(!marine_area_ha!, !Percent_marine_area!)\",\n",
    "    expression_type=\"PYTHON3\",\n",
    "    code_block=\"\"\"def mpa(marine_area_ha, Percent_marine_area):\n",
    "    if marine_area_ha >= 100:\n",
    "        return \"yes\"\n",
    "    elif marine_area_ha > 10 and Percent_marine_area >30:\n",
    "        return \"yes\"\n",
    "    else:\n",
    "        return \"no\"\n",
    "\"\"\",\n",
    "    field_type=\"TEXT\",\n",
    "    enforce_domains=\"NO_ENFORCE_DOMAINS\"\n",
    ")"
   ]
  },
  {
   "cell_type": "code",
   "execution_count": 11,
   "id": "dc2e1f35",
   "metadata": {},
   "outputs": [
    {
     "data": {
      "text/html": [
       "<div class='gpresult'><h2>Messages</h2><div id='messages' data-messages='[\"Start Time: 20 September 2023 16:58:54\",\"Succeeded at 20 September 2023 16:58:55 (Elapsed Time: 0.82 seconds)\"]' data-show='true'><div id = 'default' /></div></div>"
      ],
      "text/plain": [
       "<Result 'F:\\\\Bex\\\\ArcGIS\\\\Ecological_coherence_2023\\\\Ecological_coherence_2023.gdb\\\\WDPA_MPA'>"
      ]
     },
     "execution_count": 11,
     "metadata": {},
     "output_type": "execute_result"
    }
   ],
   "source": [
    "# Make a layer of the PAs that are considered MPAs\n",
    "\n",
    "in_feature = \"WDPA_Carib_CoastClip_join\"\n",
    "out_feature = \"\\\\WDPA_MPA\"\n",
    "output_gdb = r\"F:\\Bex\\ArcGIS\\Ecological_coherence_2023\\Ecological_coherence_2023.gdb\"\n",
    "\n",
    "arcpy.conversion.ExportFeatures(\n",
    "    in_features= in_feature,\n",
    "    out_features= output_gdb + out_feature,\n",
    "    where_clause=\"MPA = 'yes'\",\n",
    "    use_field_alias_as_name=\"NOT_USE_ALIAS\",\n",
    "    sort_field=None\n",
    ")"
   ]
  },
  {
   "cell_type": "code",
   "execution_count": null,
   "id": "3b017f58",
   "metadata": {},
   "outputs": [],
   "source": [
    "# Dissolve the MPAs for a flat layer\n",
    "# Make them single part for faster processing\n",
    "\n",
    "in_feature = \"WDPA_MPA\"\n",
    "out_feature = \"\\\\WDPA_MPA_dis\"\n",
    "output_gdb = r\"F:\\Bex\\ArcGIS\\Ecological_coherence_2023\\Ecological_coherence_2023.gdb\"\n",
    "\n",
    "arcpy.analysis.PairwiseDissolve(\n",
    "    in_features= in_feature,\n",
    "    out_feature_class= output_gdb + out_feature,\n",
    "    dissolve_field=None,\n",
    "    statistics_fields=None,\n",
    "    multi_part=\"SINGLE_PART\",\n",
    "    concatenation_separator=\"\"\n",
    ")\n"
   ]
  },
  {
   "cell_type": "markdown",
   "id": "daeba51d",
   "metadata": {},
   "source": [
    "### Make the no-take MPA layer"
   ]
  },
  {
   "cell_type": "code",
   "execution_count": 4,
   "id": "5cee6699",
   "metadata": {},
   "outputs": [
    {
     "data": {
      "text/html": [
       "<div class='gpresult'><h2>Messages</h2><div id='messages' data-messages='[\"Start Time: 03 November 2023 13:18:14\",\"Succeeded at 03 November 2023 13:18:14 (Elapsed Time: 0.61 seconds)\"]' data-show='true'><div id = 'default' /></div></div>"
      ],
      "text/plain": [
       "<Result 'F:\\\\Bex\\\\ArcGIS\\\\Ecological_coherence_2023\\\\Ecological_coherence_2023.gdb\\\\WDPA_MPA_NoTake'>"
      ]
     },
     "execution_count": 4,
     "metadata": {},
     "output_type": "execute_result"
    }
   ],
   "source": [
    "# Start with the WDPA_MPA layer\n",
    "\n",
    "# Only keep features where NO_TAKE == all or part\n",
    "\n",
    "in_feature = \"WDPA_MPA\"\n",
    "out_feature = \"\\\\WDPA_MPA_NoTake\"\n",
    "output_gdb = r\"F:\\Bex\\ArcGIS\\Ecological_coherence_2023\\Ecological_coherence_2023.gdb\"\n",
    "\n",
    "arcpy.conversion.ExportFeatures(\n",
    "    in_features=in_feature,\n",
    "    out_features=output_gdb + out_feature,\n",
    "    where_clause=\"NO_TAKE = 'All' Or NO_TAKE = 'Part'\",\n",
    "    use_field_alias_as_name=\"NOT_USE_ALIAS\",\n",
    "    field_mapping='WDPAID \"WDPAID\" true true false 8 Double 0 0,First,#,WDPA_MPA,WDPAID,-1,-1;WDPA_PID \"WDPA_PID\" true true false 52 Text 0 0,First,#,WDPA_MPA,WDPA_PID,0,52;PA_DEF \"PA_DEF\" true true false 20 Text 0 0,First,#,WDPA_MPA,PA_DEF,0,20;NAME \"NAME\" true true false 254 Text 0 0,First,#,WDPA_MPA,NAME,0,254;ORIG_NAME \"ORIG_NAME\" true true false 254 Text 0 0,First,#,WDPA_MPA,ORIG_NAME,0,254;DESIG \"DESIG\" true true false 254 Text 0 0,First,#,WDPA_MPA,DESIG,0,254;DESIG_ENG \"DESIG_ENG\" true true false 254 Text 0 0,First,#,WDPA_MPA,DESIG_ENG,0,254;DESIG_TYPE \"DESIG_TYPE\" true true false 20 Text 0 0,First,#,WDPA_MPA,DESIG_TYPE,0,20;IUCN_CAT \"IUCN_CAT\" true true false 20 Text 0 0,First,#,WDPA_MPA,IUCN_CAT,0,20;INT_CRIT \"INT_CRIT\" true true false 100 Text 0 0,First,#,WDPA_MPA,INT_CRIT,0,100;MARINE \"MARINE\" true true false 20 Text 0 0,First,#,WDPA_MPA,MARINE,0,20;REP_M_AREA \"REP_M_AREA\" true true false 8 Double 0 0,First,#,WDPA_MPA,REP_M_AREA,-1,-1;GIS_M_AREA \"GIS_M_AREA\" true true false 8 Double 0 0,First,#,WDPA_MPA,GIS_M_AREA,-1,-1;REP_AREA \"REP_AREA\" true true false 8 Double 0 0,First,#,WDPA_MPA,REP_AREA,-1,-1;GIS_AREA \"GIS_AREA\" true true false 8 Double 0 0,First,#,WDPA_MPA,GIS_AREA,-1,-1;NO_TAKE \"NO_TAKE\" true true false 50 Text 0 0,First,#,WDPA_MPA,NO_TAKE,0,50;NO_TK_AREA \"NO_TK_AREA\" true true false 8 Double 0 0,First,#,WDPA_MPA,NO_TK_AREA,-1,-1;STATUS \"STATUS\" true true false 100 Text 0 0,First,#,WDPA_MPA,STATUS,0,100;STATUS_YR \"STATUS_YR\" true true false 4 Long 0 0,First,#,WDPA_MPA,STATUS_YR,-1,-1;GOV_TYPE \"GOV_TYPE\" true true false 254 Text 0 0,First,#,WDPA_MPA,GOV_TYPE,0,254;OWN_TYPE \"OWN_TYPE\" true true false 254 Text 0 0,First,#,WDPA_MPA,OWN_TYPE,0,254;MANG_AUTH \"MANG_AUTH\" true true false 254 Text 0 0,First,#,WDPA_MPA,MANG_AUTH,0,254;MANG_PLAN \"MANG_PLAN\" true true false 254 Text 0 0,First,#,WDPA_MPA,MANG_PLAN,0,254;VERIF \"VERIF\" true true false 20 Text 0 0,First,#,WDPA_MPA,VERIF,0,20;METADATAID \"METADATAID\" true true false 4 Long 0 0,First,#,WDPA_MPA,METADATAID,-1,-1;SUB_LOC \"SUB_LOC\" true true false 100 Text 0 0,First,#,WDPA_MPA,SUB_LOC,0,100;PARENT_ISO3 \"PARENT_ISO3\" true true false 50 Text 0 0,First,#,WDPA_MPA,PARENT_ISO3,0,50;ISO3 \"ISO3\" true true false 50 Text 0 0,First,#,WDPA_MPA,ISO3,0,50;marine_area_ha \"marine_area_ha\" true true false 8 Double 0 0,First,#,WDPA_MPA,marine_area_ha,-1,-1;total_area_ha \"total_area_ha\" true true false 8 Double 0 0,First,#,WDPA_MPA,total_area_ha,-1,-1;Percent_marine_area \"Percent_marine_area\" true true false 8 Double 0 0,First,#,WDPA_MPA,Percent_marine_area,-1,-1;MPA \"MPA\" true true false 512 Text 0 0,First,#,WDPA_MPA,MPA,0,512;Shape_Length \"Shape_Length\" false true true 8 Double 0 0,First,#,WDPA_MPA,Shape_Length,-1,-1;Shape_Area \"Shape_Area\" false true true 8 Double 0 0,First,#,WDPA_MPA,Shape_Area,-1,-1',\n",
    "    sort_field=None\n",
    ")"
   ]
  },
  {
   "cell_type": "code",
   "execution_count": 5,
   "id": "24e64f38",
   "metadata": {},
   "outputs": [
    {
     "data": {
      "text/html": [
       "<div class='gpresult'><h2>Messages</h2><div id='messages' data-messages='[\"Start Time: 03 November 2023 13:18:14\",\"Dissolving...\",\"Succeeded at 03 November 2023 13:18:15 (Elapsed Time: 0.87 seconds)\"]' data-show='true'><div id = 'default' /></div></div>"
      ],
      "text/plain": [
       "<Result 'F:\\\\Bex\\\\ArcGIS\\\\Ecological_coherence_2023\\\\Ecological_coherence_2023.gdb\\\\WDPA_MPA_NoTake_dis'>"
      ]
     },
     "execution_count": 5,
     "metadata": {},
     "output_type": "execute_result"
    }
   ],
   "source": [
    "# Dissolve the no-take MPAs for a flat layer\n",
    "# Make them single part for faster processing\n",
    "\n",
    "in_feature = \"WDPA_MPA_NoTake\"\n",
    "out_feature = \"\\\\WDPA_MPA_NoTake_dis\"\n",
    "output_gdb = r\"F:\\Bex\\ArcGIS\\Ecological_coherence_2023\\Ecological_coherence_2023.gdb\"\n",
    "\n",
    "arcpy.analysis.PairwiseDissolve(\n",
    "    in_features= in_feature,\n",
    "    out_feature_class= output_gdb + out_feature,\n",
    "    dissolve_field=None,\n",
    "    statistics_fields=None,\n",
    "    multi_part=\"SINGLE_PART\",\n",
    "    concatenation_separator=\"\"\n",
    ")\n"
   ]
  },
  {
   "cell_type": "markdown",
   "id": "4475778a",
   "metadata": {},
   "source": [
    "### Make the no-take MPA HABITAT layer"
   ]
  },
  {
   "cell_type": "code",
   "execution_count": 3,
   "id": "3f302601",
   "metadata": {},
   "outputs": [
    {
     "data": {
      "text/html": [
       "<div class='gpresult'><h2>Messages</h2><div id='messages' data-messages='[\"Start Time: 09 November 2023 13:29:49\",\"Succeeded at 09 November 2023 13:29:50 (Elapsed Time: 0.83 seconds)\"]' data-show='true'><div id = 'default' /></div></div>"
      ],
      "text/plain": [
       "<Result 'F:\\\\Bex\\\\ArcGIS\\\\Ecological_coherence_2023\\\\Ecological_coherence_2023.gdb\\\\WDPA_MPA_30km_NoTake'>"
      ]
     },
     "execution_count": 3,
     "metadata": {},
     "output_type": "execute_result"
    }
   ],
   "source": [
    "# start with the undissolved habitat MPA layer: \"WDPA_30km\"\n",
    "\n",
    "# Only keep features where NO_TAKE == all or part\n",
    "\n",
    "in_feature = \"WDPA_30km\"\n",
    "out_feature = \"\\\\WDPA_MPA_30km_NoTake\"\n",
    "output_gdb = r\"F:\\Bex\\ArcGIS\\Ecological_coherence_2023\\Ecological_coherence_2023.gdb\"\n",
    "\n",
    "arcpy.conversion.ExportFeatures(\n",
    "    in_features=in_feature,\n",
    "    out_features=output_gdb + out_feature,\n",
    "    where_clause=\"NO_TAKE = 'All' Or NO_TAKE = 'Part'\",\n",
    "    use_field_alias_as_name=\"NOT_USE_ALIAS\",\n",
    "    field_mapping=None, \n",
    "    sort_field=None\n",
    ")\n",
    "\n"
   ]
  },
  {
   "cell_type": "code",
   "execution_count": 4,
   "id": "09b3b4d5",
   "metadata": {},
   "outputs": [
    {
     "data": {
      "text/html": [
       "<div class='gpresult'><h2>Messages</h2><div id='messages' data-messages='[\"Start Time: 09 November 2023 13:30:33\",\"Dissolving...\",\"Succeeded at 09 November 2023 13:30:34 (Elapsed Time: 1.08 seconds)\"]' data-show='true'><div id = 'default' /></div></div>"
      ],
      "text/plain": [
       "<Result 'F:\\\\Bex\\\\ArcGIS\\\\Ecological_coherence_2023\\\\Ecological_coherence_2023.gdb\\\\WDPA_MPA_30km_NoTake_dis'>"
      ]
     },
     "execution_count": 4,
     "metadata": {},
     "output_type": "execute_result"
    }
   ],
   "source": [
    "# Dissolve the no-take MPA habitat layer for a flat layer\n",
    "# Make them single part for faster processing\n",
    "\n",
    "in_feature = \"WDPA_MPA_30km_NoTake\"\n",
    "out_feature = \"\\\\WDPA_MPA_30km_NoTake_dis\"\n",
    "output_gdb = r\"F:\\Bex\\ArcGIS\\Ecological_coherence_2023\\Ecological_coherence_2023.gdb\"\n",
    "\n",
    "arcpy.analysis.PairwiseDissolve(\n",
    "    in_features= in_feature,\n",
    "    out_feature_class= output_gdb + out_feature,\n",
    "    dissolve_field=None,\n",
    "    statistics_fields=None,\n",
    "    multi_part=\"SINGLE_PART\",\n",
    "    concatenation_separator=\"\"\n",
    ")"
   ]
  }
 ],
 "metadata": {
  "kernelspec": {
   "display_name": "Python 3 (ipykernel)",
   "language": "python",
   "name": "python3"
  },
  "language_info": {
   "codemirror_mode": {
    "name": "ipython",
    "version": 3
   },
   "file_extension": ".py",
   "mimetype": "text/x-python",
   "name": "python",
   "nbconvert_exporter": "python",
   "pygments_lexer": "ipython3",
   "version": "3.9.16"
  }
 },
 "nbformat": 4,
 "nbformat_minor": 5
}
