{
 "cells": [
  {
   "cell_type": "markdown",
   "id": "48c00c2c",
   "metadata": {},
   "source": [
    "# Prepare the Benthic Habitat data\n"
   ]
  },
  {
   "cell_type": "markdown",
   "id": "12288c87",
   "metadata": {},
   "source": [
    "### Import libraries and set up environment"
   ]
  },
  {
   "cell_type": "code",
   "execution_count": 4,
   "id": "890efa23",
   "metadata": {},
   "outputs": [
    {
     "name": "stdout",
     "output_type": "stream",
     "text": [
      "1.4.4\n",
      "1.20.1\n",
      "2.1.0.2\n"
     ]
    }
   ],
   "source": [
    "import os\n",
    "import sys\n",
    "\n",
    "import pandas as pd\n",
    "print(pd.__version__)\n",
    "\n",
    "import numpy as np\n",
    "print(np.__version__)\n",
    "\n",
    "import arcpy\n",
    "\n",
    "import arcgis\n",
    "print(arcgis.__version__)\n",
    "\n",
    "from arcgis.gis import GIS\n",
    "from arcgis.mapping import WebMap\n",
    "from arcgis.features import FeatureLayer"
   ]
  },
  {
   "cell_type": "code",
   "execution_count": 5,
   "id": "6e29423d",
   "metadata": {},
   "outputs": [],
   "source": [
    "# Set the workspace and environment settings\n",
    "\n",
    "arcpy.env.workspace = r\"F:\\Bex\\ArcGIS\\Ecological_coherence_2023\\Ecological_coherence_2023.gdb\"\n",
    "arcpy.env.overwriteOutput = True "
   ]
  },
  {
   "cell_type": "code",
   "execution_count": null,
   "id": "c902a768",
   "metadata": {},
   "outputs": [],
   "source": [
    "# Make sure \"Carib_mol_30km\" is in the project (made in EC_study_area_prep)\n",
    "\n",
    "# Note that the non-benthic habitat layers (made in EC_habitat_data_prep) will be needed in the final step"
   ]
  },
  {
   "cell_type": "code",
   "execution_count": null,
   "id": "dc535292",
   "metadata": {},
   "outputs": [],
   "source": [
    "# Add the benthic habitat data to the ArcGIS project\n",
    "\n",
    "output_gdb = r\"F:\\Bex\\ArcGIS\\Ecological_coherence_2023\\Ecological_coherence_2023.gdb\"\n",
    "\n",
    "arcpy.conversion.RasterToGeodatabase(\n",
    "    Input_Rasters=[r\"C:\\Users\\bexg\\Downloads\\habitat_d_h_bottom.tif\",\n",
    "                   r\"C:\\Users\\bexg\\Downloads\\habitat_d_s_benthic.tif\",\n",
    "                   r\"C:\\Users\\bexg\\Downloads\\habitat_hard_shelf.tif\",\n",
    "                   r\"C:\\Users\\bexg\\Downloads\\habitat_hard_slope.tif\",\n",
    "                   r\"C:\\Users\\bexg\\Downloads\\habitat_rocky_reef.tif\",\n",
    "                   r\"C:\\Users\\bexg\\Downloads\\habitat_s_t_s_bottom.tif\",\n",
    "                   r\"C:\\Users\\bexg\\Downloads\\habitat_soft_shelf.tif\",\n",
    "                   r\"C:\\Users\\bexg\\Downloads\\habitat_soft_slope.tif\"],\n",
    "    Output_Geodatabase=output_gdb,\n",
    "    Configuration_Keyword=\"\"\n",
    ")\n"
   ]
  },
  {
   "cell_type": "code",
   "execution_count": 3,
   "id": "d48fbb57",
   "metadata": {},
   "outputs": [],
   "source": [
    "# Convert the rasters to polygons and clip to the study area\n",
    "\n",
    "output_gdb = r\"F:\\Bex\\ArcGIS\\Ecological_coherence_2023\\Ecological_coherence_2023.gdb\"\n",
    "\n",
    "clip_feature = \"Carib_mol_30km\"\n",
    "\n",
    "# Dictionary of benthic habitats\n",
    "benthic_habitats_8 = {\"habitat_d_h_bottom\" : \"\\\\deep_hard_Carib30\", \n",
    "                      \"habitat_d_s_benthic\" : \"\\\\deep_soft_Carib30\",\n",
    "                      \"habitat_hard_shelf\" : \"\\\\shelf_hard_Carib30\",\n",
    "                      \"habitat_soft_shelf\" : \"\\\\shelf_soft_Carib30\",\n",
    "                      \"habitat_hard_slope\" : \"\\\\slope_hard_Carib30\",\n",
    "                      \"habitat_soft_slope\" : \"\\\\slope_soft_Carib30\",\n",
    "                      \"habitat_rocky_reef\" : \"\\\\shallow_hard_Carib30\",\n",
    "                      \"habitat_s_t_s_bottom\" : \"\\\\shallow_soft_Carib30\"}\n",
    "\n",
    "def habitat_poly_clip(habitat, output_name):        \n",
    "    # convert rasters to polygons in memory. Don't simplify\n",
    "    polygon = arcpy.conversion.RasterToPolygon(habitat, \"in_memory/polygon\", \"NO_SIMPLIFY\")\n",
    "    \n",
    "    # repair geometry\n",
    "    arcpy.management.RepairGeometry(polygon, \"DELETE_NULL\", \"OGC\")\n",
    "    \n",
    "    # clip to the 30km Caribbean study area in memory\n",
    "    clipped = arcpy.analysis.Clip(polygon, clip_feature, \"in_memory/clipped\")\n",
    "    \n",
    "    # Copy the dissolved result to the output geodatabase\n",
    "    arcpy.management.CopyFeatures(clipped, output_gdb + output_name)\n",
    "        \n",
    "    # repair geometry\n",
    "    arcpy.management.RepairGeometry(output_gdb + output_name, \"DELETE_NULL\", \"OGC\")\n",
    "    \n",
    "# loop through the habitat layers and process them\n",
    "for habitat, output_name in benthic_habitats_8.items():\n",
    "    habitat_poly_clip(habitat, output_name)"
   ]
  },
  {
   "cell_type": "code",
   "execution_count": 7,
   "id": "eaf6bfcd",
   "metadata": {},
   "outputs": [],
   "source": [
    "# Add a column indicating the habitat type for each habitat dataset\n",
    "\n",
    "output_gdb = r\"F:\\Bex\\ArcGIS\\Ecological_coherence_2023\\Ecological_coherence_2023.gdb\"\n",
    "\n",
    "# Dictionary of habitats\n",
    "benthic_habitats_8 = {\"deep_hard_Carib30\" : \"deep_hard\",\n",
    "              \"deep_soft_Carib30\" : \"deep_soft\",\n",
    "              \"shelf_hard_Carib30\" : \"shelf_hard\",\n",
    "              \"shelf_soft_Carib30\" : \"shelf_soft\",\n",
    "              \"slope_hard_Carib30\" : \"slope_hard\",\n",
    "              \"slope_soft_Carib30\" : \"slope_soft\",\n",
    "              \"shallow_hard_Carib30\" : \"shallow_hard\",\n",
    "              \"shallow_soft_Carib30\" : \"shallow_soft\"}\n",
    "\n",
    "def habitat_field(habitat, habitat_name):\n",
    "    #add field to indicate habitat type\n",
    "    arcpy.management.CalculateField(\n",
    "        in_table=habitat,\n",
    "        field=\"Habitat\",\n",
    "        expression= f\"'{habitat_name}'\",\n",
    "        expression_type=\"PYTHON3\",\n",
    "        code_block=\"\",\n",
    "        field_type=\"TEXT\",\n",
    "        enforce_domains=\"NO_ENFORCE_DOMAINS\"\n",
    "    )\n",
    "\n",
    "# loop through the habitat layers and process them\n",
    "for habitat, habitat_name in benthic_habitats_8.items():\n",
    "    habitat_field(habitat, habitat_name)"
   ]
  },
  {
   "cell_type": "code",
   "execution_count": 14,
   "id": "fe92841c",
   "metadata": {},
   "outputs": [],
   "source": [
    "# merge all the benthic habitats and other habitats into a single habitat layer\n",
    "\n",
    "feature1 = \"deep_hard_Carib30\"\n",
    "feature2 = \"deep_soft_Carib30\"\n",
    "feature3 = \"shelf_hard_Carib30\"\n",
    "feature4 = \"shelf_soft_Carib30\"\n",
    "feature5 = \"slope_hard_Carib30\"\n",
    "feature6 = \"slope_soft_Carib30\"\n",
    "feature7 = \"shallow_hard_Carib30\"\n",
    "feature8 = \"shallow_soft_Carib30\"\n",
    "feature9 = \"mangroves_mol_Carib30_dis\"\n",
    "feature10 = \"saltmarsh_mol_Carib30_dis\"\n",
    "feature11 = \"seamount_knoll_mol_Carib30_dis\"\n",
    "feature12 = \"coral_mol_Carib30_dis\"\n",
    "feature13 = \"seagrass_mol_Carib30_dis\"\n",
    "\n",
    "out_feature = \"\\\\habitats_dis_merge\"\n",
    "\n",
    "output_gdb = r\"F:\\Bex\\ArcGIS\\Ecological_coherence_2023\\Ecological_coherence_2023.gdb\"\n",
    "\n",
    "def habitat_merge():\n",
    "    arcpy.management.Merge(\n",
    "        inputs=[feature1, feature2, feature3, feature4, feature5, feature6, feature7, feature8, feature9, feature10, feature11, feature12, feature13],\n",
    "        output= out_feature,\n",
    "        field_mappings= None,\n",
    "        add_source=\"NO_SOURCE_INFO\"\n",
    "    )\n",
    "\n",
    "    # repair geometry\n",
    "    arcpy.management.RepairGeometry(out_feature, \"DELETE_NULL\", \"OGC\")\n",
    "\n",
    "habitat_merge()\n",
    "            "
   ]
  },
  {
   "cell_type": "code",
   "execution_count": 15,
   "id": "4a9a011f",
   "metadata": {},
   "outputs": [
    {
     "data": {
      "text/html": [
       "<div class='gpresult'><h2>Messages</h2><div id='messages' data-messages='[\"Start Time: 26 September 2023 17:45:48\",\"Succeeded at 26 September 2023 17:46:15 (Elapsed Time: 26.40 seconds)\"]' data-show='true'><div id = 'default' /></div></div>"
      ],
      "text/plain": [
       "<Result 'F:\\\\Bex\\\\ArcGIS\\\\Ecological_coherence_2023\\\\Ecological_coherence_2023.gdb\\\\habitats_dis_merge_40kDice'>"
      ]
     },
     "execution_count": 15,
     "metadata": {},
     "output_type": "execute_result"
    }
   ],
   "source": [
    "#Can use this step if needed to dice the merged and dissolved habitat layer to reduce processing times\n",
    "\n",
    "in_feature = \"habitats_dis_merge\"\n",
    "out_feature = \"\\\\habitats_dis_merge_40kDice\"\n",
    "VertLimit = 40000\n",
    "output_gdb = r\"F:\\Bex\\ArcGIS\\Ecological_coherence_2023\\Ecological_coherence_2023.gdb\"\n",
    "\n",
    "# Dice the habitats_dis_merge layer to reduce processing times\n",
    "arcpy.Dice_management (in_feature, output_gdb + out_feature, VertLimit)"
   ]
  }
 ],
 "metadata": {
  "kernelspec": {
   "display_name": "Python 3 (ipykernel)",
   "language": "python",
   "name": "python3"
  },
  "language_info": {
   "codemirror_mode": {
    "name": "ipython",
    "version": 3
   },
   "file_extension": ".py",
   "mimetype": "text/x-python",
   "name": "python",
   "nbconvert_exporter": "python",
   "pygments_lexer": "ipython3",
   "version": "3.9.16"
  }
 },
 "nbformat": 4,
 "nbformat_minor": 5
}
