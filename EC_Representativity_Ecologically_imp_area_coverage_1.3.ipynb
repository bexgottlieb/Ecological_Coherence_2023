{
 "cells": [
  {
   "cell_type": "markdown",
   "id": "68650a6a",
   "metadata": {},
   "source": [
    "# Representativity - Ecologically important area coverage 1.3"
   ]
  },
  {
   "cell_type": "markdown",
   "id": "b33d2676",
   "metadata": {},
   "source": [
    "### Import libraries and set up environment"
   ]
  },
  {
   "cell_type": "code",
   "execution_count": 1,
   "id": "7edd94ed",
   "metadata": {},
   "outputs": [
    {
     "name": "stdout",
     "output_type": "stream",
     "text": [
      "1.4.4\n",
      "1.20.1\n",
      "2.1.0.2\n"
     ]
    }
   ],
   "source": [
    "import os\n",
    "import sys\n",
    "\n",
    "import pandas as pd\n",
    "print(pd.__version__)\n",
    "\n",
    "import numpy as np\n",
    "print(np.__version__)\n",
    "\n",
    "import arcpy\n",
    "\n",
    "import arcgis\n",
    "print(arcgis.__version__)\n",
    "\n",
    "from arcgis.gis import GIS\n",
    "from arcgis.mapping import WebMap\n",
    "from arcgis.features import FeatureLayer"
   ]
  },
  {
   "cell_type": "code",
   "execution_count": 2,
   "id": "c77088aa",
   "metadata": {},
   "outputs": [],
   "source": [
    "# Set the workspace and environment settings\n",
    "\n",
    "arcpy.env.workspace = r\"F:\\Bex\\ArcGIS\\Ecological_coherence_2023\\Ecological_coherence_2023.gdb\"\n",
    "arcpy.env.overwriteOutput = True "
   ]
  },
  {
   "cell_type": "code",
   "execution_count": 10,
   "id": "1770c065",
   "metadata": {},
   "outputs": [
    {
     "data": {
      "text/html": [
       "<div class='gpresult'><h2>Messages</h2><div id='messages' data-messages='[\"Start Time: 21 September 2023 17:18:59\",\"Reading Features...\",\"Cracking Features...\",\"Assembling Features...\",\"Succeeded at 21 September 2023 17:19:10 (Elapsed Time: 11.18 seconds)\"]' data-show='true'><div id = 'default' /></div></div>"
      ],
      "text/plain": [
       "<Result 'F:\\\\Bex\\\\ArcGIS\\\\Ecological_coherence_2023\\\\Ecological_coherence_2023.gdb\\\\MPA_dis_KBA_EBSA_union_Rep1_3'>"
      ]
     },
     "execution_count": 10,
     "metadata": {},
     "output_type": "execute_result"
    }
   ],
   "source": [
    "# Union the dissolved MPAs with the dissolved ecologically imp areas\n",
    "\n",
    "in_feature_1 = \"WDPA_MPA_dis\"\n",
    "in_feature_2 = \"KBA_EBSA_mol_Carib_dis\"\n",
    "in_feature_3 = \"Caribbean_detailed_subregions_mol\"\n",
    "out_feature = \"\\\\MPA_dis_KBA_EBSA_union_Rep1_3\"\n",
    "output_gdb = r\"F:\\Bex\\ArcGIS\\Ecological_coherence_2023\\Ecological_coherence_2023.gdb\"\n",
    "\n",
    "arcpy.analysis.Union(\n",
    "    in_features=[in_feature_1,in_feature_2,in_feature_3],\n",
    "    out_feature_class= output_gdb + out_feature,\n",
    "    join_attributes=\"ALL\",\n",
    "    cluster_tolerance=None,\n",
    "    gaps=\"GAPS\"\n",
    ")"
   ]
  },
  {
   "cell_type": "code",
   "execution_count": 11,
   "id": "948a71b2",
   "metadata": {},
   "outputs": [],
   "source": [
    "# Repair geoemtry on union, calculate area, and export to excel\n",
    "\n",
    "# Set a folder to store the output tables\n",
    "table_outputs_folder = r\"F:\\Bex\\ArcGIS\\Ecological_coherence_2023\\Tables\\Representativity\"\n",
    "\n",
    "in_feature = \"MPA_dis_KBA_EBSA_union_Rep1_3\"\n",
    "output_gdb = r\"F:\\Bex\\ArcGIS\\Ecological_coherence_2023\\Ecological_coherence_2023.gdb\"\n",
    "\n",
    "def repair_geo_area_export():\n",
    "    #repair geometry\n",
    "    arcpy.management.RepairGeometry(\n",
    "        in_features= in_feature,\n",
    "        delete_null=\"DELETE_NULL\",\n",
    "        validation_method=\"OGC\"\n",
    "    )\n",
    "            \n",
    "    # insert \"area\" field (double) and calculate area in km2 in Mollweide\n",
    "    arcpy.management.CalculateGeometryAttributes(\n",
    "        in_features= in_feature,\n",
    "        geometry_property=\"area AREA\",\n",
    "        length_unit=\"\",\n",
    "        area_unit=\"SQUARE_KILOMETERS\",\n",
    "        coordinate_system='PROJCS[\"World_Mollweide\",GEOGCS[\"GCS_WGS_1984\",DATUM[\"D_WGS_1984\",SPHEROID[\"WGS_1984\",6378137.0,298.257223563]],PRIMEM[\"Greenwich\",0.0],UNIT[\"Degree\",0.0174532925199433]],PROJECTION[\"Mollweide\"],PARAMETER[\"False_Easting\",0.0],PARAMETER[\"False_Northing\",0.0],PARAMETER[\"Central_Meridian\",0.0],UNIT[\"Meter\",1.0]]',\n",
    "        coordinate_format=\"SAME_AS_INPUT\"\n",
    "    )\n",
    "    \n",
    "    # Export tables to excel\n",
    "    # Not sure why I had to use the following two lines instead of just using the TableToExcel expression, but I did\n",
    "    excel_filename = in_feature + \".xlsx\"\n",
    "    excel_filepath = os.path.join(table_outputs_folder, excel_filename)  # Build the full file path\n",
    "\n",
    "    arcpy.conversion.TableToExcel(\n",
    "        Input_Table= in_feature,\n",
    "        Output_Excel_File= excel_filepath,\n",
    "        Use_field_alias_as_column_header=\"NAME\",\n",
    "        Use_domain_and_subtype_description=\"CODE\"\n",
    "    )\n",
    "    \n",
    "repair_geo_area_export()\n"
   ]
  },
  {
   "cell_type": "code",
   "execution_count": 12,
   "id": "54ffa01f",
   "metadata": {},
   "outputs": [],
   "source": [
    "# Convert the output features to a Pandas DataFrame\n",
    "df_MPA_union = pd.DataFrame.spatial.from_featureclass(\"MPA_dis_KBA_EBSA_union_Rep1_3\")\n"
   ]
  },
  {
   "cell_type": "code",
   "execution_count": 13,
   "id": "7bcd6029",
   "metadata": {},
   "outputs": [
    {
     "data": {
      "text/html": [
       "<div>\n",
       "<style scoped>\n",
       "    .dataframe tbody tr th:only-of-type {\n",
       "        vertical-align: middle;\n",
       "    }\n",
       "\n",
       "    .dataframe tbody tr th {\n",
       "        vertical-align: top;\n",
       "    }\n",
       "\n",
       "    .dataframe thead th {\n",
       "        text-align: right;\n",
       "    }\n",
       "</style>\n",
       "<table border=\"1\" class=\"dataframe\">\n",
       "  <thead>\n",
       "    <tr style=\"text-align: right;\">\n",
       "      <th></th>\n",
       "      <th>OBJECTID</th>\n",
       "      <th>FID_WDPA_MPA_dis</th>\n",
       "      <th>FID_Caribbean_detailed_subregions_mol</th>\n",
       "      <th>ORIG_FID</th>\n",
       "      <th>Area</th>\n",
       "      <th>Subregion</th>\n",
       "      <th>FID_KBA_EBSA_mol_Carib_dis</th>\n",
       "      <th>SHAPE</th>\n",
       "    </tr>\n",
       "  </thead>\n",
       "  <tbody>\n",
       "    <tr>\n",
       "      <th>0</th>\n",
       "      <td>1</td>\n",
       "      <td>-1</td>\n",
       "      <td>1</td>\n",
       "      <td>2</td>\n",
       "      <td>1.249407e+06</td>\n",
       "      <td>Greater Antilles</td>\n",
       "      <td>-1</td>\n",
       "      <td>{\"hasZ\": true, \"rings\": [[[-7955414.684900001,...</td>\n",
       "    </tr>\n",
       "    <tr>\n",
       "      <th>1</th>\n",
       "      <td>2</td>\n",
       "      <td>-1</td>\n",
       "      <td>2</td>\n",
       "      <td>2</td>\n",
       "      <td>1.364962e+06</td>\n",
       "      <td>Gulf of Mexico</td>\n",
       "      <td>-1</td>\n",
       "      <td>{\"hasZ\": true, \"rings\": [[[-8035203.846999999,...</td>\n",
       "    </tr>\n",
       "    <tr>\n",
       "      <th>2</th>\n",
       "      <td>3</td>\n",
       "      <td>-1</td>\n",
       "      <td>4</td>\n",
       "      <td>2</td>\n",
       "      <td>1.987861e+05</td>\n",
       "      <td>Florida</td>\n",
       "      <td>-1</td>\n",
       "      <td>{\"hasZ\": true, \"rings\": [[[-7044181.704399999,...</td>\n",
       "    </tr>\n",
       "    <tr>\n",
       "      <th>3</th>\n",
       "      <td>4</td>\n",
       "      <td>-1</td>\n",
       "      <td>6</td>\n",
       "      <td>2</td>\n",
       "      <td>6.619637e+05</td>\n",
       "      <td>Bahamian</td>\n",
       "      <td>-1</td>\n",
       "      <td>{\"hasZ\": true, \"rings\": [[[-6945139.6688, 3626...</td>\n",
       "    </tr>\n",
       "    <tr>\n",
       "      <th>4</th>\n",
       "      <td>5</td>\n",
       "      <td>-1</td>\n",
       "      <td>8</td>\n",
       "      <td>2</td>\n",
       "      <td>3.538951e+05</td>\n",
       "      <td>Eastern Caribbean</td>\n",
       "      <td>-1</td>\n",
       "      <td>{\"hasZ\": true, \"rings\": [[[-5660916.9866, 2276...</td>\n",
       "    </tr>\n",
       "  </tbody>\n",
       "</table>\n",
       "</div>"
      ],
      "text/plain": [
       "   OBJECTID  FID_WDPA_MPA_dis  FID_Caribbean_detailed_subregions_mol  \\\n",
       "0         1                -1                                      1   \n",
       "1         2                -1                                      2   \n",
       "2         3                -1                                      4   \n",
       "3         4                -1                                      6   \n",
       "4         5                -1                                      8   \n",
       "\n",
       "   ORIG_FID          Area          Subregion  FID_KBA_EBSA_mol_Carib_dis  \\\n",
       "0         2  1.249407e+06   Greater Antilles                          -1   \n",
       "1         2  1.364962e+06     Gulf of Mexico                          -1   \n",
       "2         2  1.987861e+05            Florida                          -1   \n",
       "3         2  6.619637e+05           Bahamian                          -1   \n",
       "4         2  3.538951e+05  Eastern Caribbean                          -1   \n",
       "\n",
       "                                               SHAPE  \n",
       "0  {\"hasZ\": true, \"rings\": [[[-7955414.684900001,...  \n",
       "1  {\"hasZ\": true, \"rings\": [[[-8035203.846999999,...  \n",
       "2  {\"hasZ\": true, \"rings\": [[[-7044181.704399999,...  \n",
       "3  {\"hasZ\": true, \"rings\": [[[-6945139.6688, 3626...  \n",
       "4  {\"hasZ\": true, \"rings\": [[[-5660916.9866, 2276...  "
      ]
     },
     "execution_count": 13,
     "metadata": {},
     "output_type": "execute_result"
    }
   ],
   "source": [
    "# Display the DataFrame\n",
    "df_MPA_union.head()"
   ]
  },
  {
   "cell_type": "code",
   "execution_count": 27,
   "id": "4b97be3b",
   "metadata": {},
   "outputs": [
    {
     "name": "stdout",
     "output_type": "stream",
     "text": [
      "                Subregion    Total_area       MPA_area  KBA_EBSA_area  \\\n",
      "0                Bahamian  7.109443e+05   47434.279020    2801.288318   \n",
      "1       Eastern Caribbean  8.277024e+05  156780.054923  394656.631215   \n",
      "2                 Florida  2.152991e+05   16395.806871    3659.854140   \n",
      "3        Greater Antilles  1.391880e+06   69691.401433  107967.222547   \n",
      "4                 Guianan  4.001308e+05    3371.326517  397031.503126   \n",
      "5          Gulf of Mexico  1.404182e+06   20149.642202   28044.922869   \n",
      "6      Southern Caribbean  5.436105e+05   34024.578178   43975.769529   \n",
      "7  Southwestern Caribbean  7.502861e+05   89024.215528  111028.240617   \n",
      "8       Western Caribbean  3.446225e+05   80278.382613  254415.070271   \n",
      "\n",
      "   MPA_KBA_EBSA_int_area  %KBA_EBSA_coverage  \n",
      "0            1255.032457           44.801974  \n",
      "1           77629.334152           19.670095  \n",
      "2            3542.745525           96.800184  \n",
      "3           35185.621275           32.589170  \n",
      "4            3127.847292            0.787808  \n",
      "5            8973.951059           31.998487  \n",
      "6            5090.315474           11.575273  \n",
      "7           68391.630363           61.598410  \n",
      "8           79867.924969           31.392765  \n"
     ]
    }
   ],
   "source": [
    "# Make pivot tables\n",
    "pivot_subregion = df_MPA_union.pivot_table(\n",
    "     index = \"Subregion\",\n",
    "     values = \"Area\",\n",
    "     aggfunc = \"sum\"\n",
    ").reset_index()\n",
    "pivot_subregion.columns = [\"Subregion\", \"Total_area\"]\n",
    "#print(pivot_subregion)\n",
    "\n",
    "pivot_KBA_EBSA = df_MPA_union[df_MPA_union[\"FID_KBA_EBSA_mol_Carib_dis\"] != -1].pivot_table(\n",
    "    index = \"Subregion\",\n",
    "    values = \"Area\",\n",
    "    aggfunc = \"sum\"\n",
    ").reset_index()\n",
    "pivot_KBA_EBSA.columns = [\"Subregion\", \"KBA_EBSA_area\"]\n",
    "#print(pivot_KBA_EBSA)\n",
    "\n",
    "pivot_MPA = df_MPA_union[df_MPA_union[\"FID_WDPA_MPA_dis\"] != -1].pivot_table(\n",
    "    index = \"Subregion\",\n",
    "    values = \"Area\",\n",
    "    aggfunc = \"sum\"\n",
    ").reset_index()\n",
    "pivot_MPA.columns = [\"Subregion\", \"MPA_area\"]\n",
    "#print(pivot_MPA)\n",
    "\n",
    "pivot_MPA_KBA_EBSA_int = df_MPA_union[(df_MPA_union[\"FID_WDPA_MPA_dis\"] != -1) & (df_MPA_union[\"FID_KBA_EBSA_mol_Carib_dis\"] != -1)].pivot_table(\n",
    "    index = \"Subregion\",\n",
    "    values = \"Area\",\n",
    "    aggfunc = \"sum\"\n",
    ").reset_index()\n",
    "pivot_MPA_KBA_EBSA_int.columns = [\"Subregion\", \"MPA_KBA_EBSA_int_area\"]\n",
    "#print(pivot_MPA_KBA_EBSA_int)\n",
    "\n",
    "# Merge the pivot tables into a single pivot table. The merge should be based on Subregion\n",
    "KBA_EBSA_coverage = pd.merge(pivot_subregion, pivot_MPA, on=\"Subregion\", how=\"left\", validate = \"1:1\")\n",
    "KBA_EBSA_coverage = pd.merge(KBA_EBSA_coverage, pivot_KBA_EBSA, on=\"Subregion\", how=\"left\", validate = \"1:1\")\n",
    "KBA_EBSA_coverage = pd.merge(KBA_EBSA_coverage, pivot_MPA_KBA_EBSA_int, on=\"Subregion\", how=\"left\", validate = \"1:1\")\n",
    "#print(KBA_EBSA_coverage)\n",
    "\n",
    "#add column for the percent KBA_EBSA coverage per subregion\n",
    "KBA_EBSA_coverage.insert(5, \"%KBA_EBSA_coverage\", KBA_EBSA_coverage[\"MPA_KBA_EBSA_int_area\"] / KBA_EBSA_coverage[\"KBA_EBSA_area\"] * 100)\n",
    "print(KBA_EBSA_coverage)\n"
   ]
  },
  {
   "cell_type": "code",
   "execution_count": 28,
   "id": "7c3dc59f",
   "metadata": {},
   "outputs": [],
   "source": [
    "#Export to excel\n",
    "\n",
    "table_outputs_folder = r\"F:\\Bex\\ArcGIS\\Ecological_coherence_2023\\Tables\\Representativity\"\n",
    "table = KBA_EBSA_coverage\n",
    "output_name = \"MPA_dis_KBA_EBSA_union_Rep1_3_results.xlsx\"\n",
    "\n",
    "table.to_excel(os.path.join(table_outputs_folder, output_name))"
   ]
  }
 ],
 "metadata": {
  "kernelspec": {
   "display_name": "Python 3 (ipykernel)",
   "language": "python",
   "name": "python3"
  },
  "language_info": {
   "codemirror_mode": {
    "name": "ipython",
    "version": 3
   },
   "file_extension": ".py",
   "mimetype": "text/x-python",
   "name": "python",
   "nbconvert_exporter": "python",
   "pygments_lexer": "ipython3",
   "version": "3.9.16"
  }
 },
 "nbformat": 4,
 "nbformat_minor": 5
}
