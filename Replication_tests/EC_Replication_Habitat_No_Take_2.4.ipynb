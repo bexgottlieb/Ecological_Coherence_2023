{
 "cells": [
  {
   "cell_type": "markdown",
   "id": "68650a6a",
   "metadata": {},
   "source": [
    "# Replication - Habitat, No-take MPAs 2.4"
   ]
  },
  {
   "cell_type": "markdown",
   "id": "b33d2676",
   "metadata": {},
   "source": [
    "### Import libraries and set up environment"
   ]
  },
  {
   "cell_type": "code",
   "execution_count": 2,
   "id": "7edd94ed",
   "metadata": {},
   "outputs": [
    {
     "name": "stdout",
     "output_type": "stream",
     "text": [
      "1.4.4\n",
      "1.20.1\n",
      "2.1.0.2\n"
     ]
    }
   ],
   "source": [
    "import os\n",
    "import sys\n",
    "\n",
    "import pandas as pd\n",
    "print(pd.__version__)\n",
    "\n",
    "import numpy as np\n",
    "print(np.__version__)\n",
    "\n",
    "import arcpy\n",
    "\n",
    "import arcgis\n",
    "print(arcgis.__version__)\n",
    "\n",
    "from arcgis.gis import GIS\n",
    "from arcgis.mapping import WebMap\n",
    "from arcgis.features import FeatureLayer"
   ]
  },
  {
   "cell_type": "code",
   "execution_count": 3,
   "id": "c77088aa",
   "metadata": {},
   "outputs": [],
   "source": [
    "# Set the workspace and environment settings\n",
    "\n",
    "arcpy.env.workspace = r\"F:\\Bex\\ArcGIS\\Ecological_coherence_2023\\Ecological_coherence_2023.gdb\"\n",
    "arcpy.env.overwriteOutput = True "
   ]
  },
  {
   "cell_type": "code",
   "execution_count": 4,
   "id": "1770c065",
   "metadata": {},
   "outputs": [
    {
     "data": {
      "text/html": [
       "<div class='gpresult'><h2>Messages</h2><div id='messages' data-messages='[\"Start Time: 09 November 2023 13:45:50\",\"Intersecting with layer F:\\\\Bex\\\\ArcGIS\\\\Ecological_coherence_2023\\\\Ecological_coherence_2023.gdb\\\\habitats_dis_merge...\",\"Succeeded at 09 November 2023 13:45:57 (Elapsed Time: 7.50 seconds)\"]' data-show='true'><div id = 'default' /></div></div>"
      ],
      "text/plain": [
       "<Result 'F:\\\\Bex\\\\ArcGIS\\\\Ecological_coherence_2023\\\\Ecological_coherence_2023.gdb\\\\MPA_30km_NoTake_habitat_int_Replic2_4'>"
      ]
     },
     "execution_count": 4,
     "metadata": {},
     "output_type": "execute_result"
    }
   ],
   "source": [
    "# Intersect the dissolved no-take habitat MPA layer with the habitat layer\n",
    "\n",
    "in_feature_1 = \"WDPA_MPA_30km_NoTake_dis\"\n",
    "in_feature_2 = \"habitats_dis_merge\"\n",
    "out_feature = \"\\\\MPA_30km_NoTake_habitat_int_Replic2_4\"\n",
    "output_gdb = r\"F:\\Bex\\ArcGIS\\Ecological_coherence_2023\\Ecological_coherence_2023.gdb\"\n",
    "\n",
    "arcpy.analysis.PairwiseIntersect(\n",
    "    in_features=[in_feature_1,in_feature_2],\n",
    "    out_feature_class=output_gdb + out_feature,\n",
    "    join_attributes=\"ALL\",\n",
    "    cluster_tolerance=None,\n",
    "    output_type=\"INPUT\"\n",
    ")"
   ]
  },
  {
   "cell_type": "code",
   "execution_count": 5,
   "id": "948a71b2",
   "metadata": {},
   "outputs": [],
   "source": [
    "# Repair geoemtry on intersect and calculate area of intersecting bits\n",
    "\n",
    "in_feature = \"MPA_30km_NoTake_habitat_int_Replic2_4\"\n",
    "out_feature = \"MPA_30km_NoTake_habitat_int_singl_Replic2_4\"\n",
    "output_gdb = r\"F:\\Bex\\ArcGIS\\Ecological_coherence_2023\\Ecological_coherence_2023.gdb\"\n",
    "\n",
    "def repair_geo_area():\n",
    "    #repair geometry\n",
    "    arcpy.management.RepairGeometry(\n",
    "        in_features= in_feature,\n",
    "        delete_null=\"DELETE_NULL\",\n",
    "        validation_method=\"OGC\"\n",
    "    )\n",
    "    \n",
    "    #make the intersected layer signlepart to ensure all polygons are individual\n",
    "    arcpy.management.MultipartToSinglepart(\n",
    "        in_features= in_feature,\n",
    "        out_feature_class=out_feature\n",
    "    )\n",
    "            \n",
    "    # insert \"area\" field (double) and calculate area in km2 in Mollweide\n",
    "    arcpy.management.CalculateGeometryAttributes(\n",
    "        in_features= out_feature,\n",
    "        geometry_property=\"area AREA\",\n",
    "        length_unit=\"\",\n",
    "        area_unit=\"SQUARE_KILOMETERS\",\n",
    "        coordinate_system='PROJCS[\"World_Mollweide\",GEOGCS[\"GCS_WGS_1984\",DATUM[\"D_WGS_1984\",SPHEROID[\"WGS_1984\",6378137.0,298.257223563]],PRIMEM[\"Greenwich\",0.0],UNIT[\"Degree\",0.0174532925199433]],PROJECTION[\"Mollweide\"],PARAMETER[\"False_Easting\",0.0],PARAMETER[\"False_Northing\",0.0],PARAMETER[\"Central_Meridian\",0.0],UNIT[\"Meter\",1.0]]',\n",
    "        coordinate_format=\"SAME_AS_INPUT\"\n",
    "    )\n",
    "\n",
    "repair_geo_area()\n"
   ]
  },
  {
   "cell_type": "code",
   "execution_count": 6,
   "id": "8e17e8e5",
   "metadata": {},
   "outputs": [],
   "source": [
    "# Only keep features with an area greater than .24 km2\n",
    "\n",
    "# Select features with an area greater than .24 km2 and make a new layer from that and export it to excel\n",
    "\n",
    "# Set a folder to store the output tables\n",
    "table_outputs_folder = r\"F:\\Bex\\ArcGIS\\Ecological_coherence_2023\\Tables\\Replication\"\n",
    "\n",
    "in_feature = \"MPA_30km_NoTake_habitat_int_singl_Replic2_4\"\n",
    "out_feature = \"MPA_30km_NoTake_habitat_int_singl_big_Replic2_4\"\n",
    "output_gdb = r\"F:\\Bex\\ArcGIS\\Ecological_coherence_2023\\Ecological_coherence_2023.gdb\"\n",
    "\n",
    "def select_big_excel():\n",
    "    # make a layer of polygons with an area greater than .24 km2    \n",
    "    arcpy.conversion.ExportFeatures(\n",
    "        in_features= in_feature,\n",
    "        out_features= out_feature,\n",
    "        where_clause=\"area >= 0.24\",\n",
    "        use_field_alias_as_name=\"NOT_USE_ALIAS\",\n",
    "        field_mapping=None,\n",
    "        sort_field=None\n",
    "    )\n",
    "    \n",
    "    # Export table to excel\n",
    "    # Not sure why I had to use the following two lines instead of just using the TableToExcel expression, but I did\n",
    "    excel_filename = out_feature + \".xlsx\"\n",
    "    excel_filepath = os.path.join(table_outputs_folder, excel_filename)  # Build the full file path\n",
    "\n",
    "    arcpy.conversion.TableToExcel(\n",
    "        Input_Table= in_feature,\n",
    "        Output_Excel_File= excel_filepath,\n",
    "        Use_field_alias_as_column_header=\"NAME\",\n",
    "        Use_domain_and_subtype_description=\"CODE\"\n",
    "    )\n",
    "    \n",
    "select_big_excel()"
   ]
  },
  {
   "cell_type": "code",
   "execution_count": 7,
   "id": "54ffa01f",
   "metadata": {},
   "outputs": [],
   "source": [
    "# Convert the output features to a Pandas DataFrame\n",
    "df = pd.DataFrame.spatial.from_featureclass(\"MPA_30km_NoTake_habitat_int_singl_big_Replic2_4\")\n"
   ]
  },
  {
   "cell_type": "code",
   "execution_count": 8,
   "id": "7bcd6029",
   "metadata": {},
   "outputs": [
    {
     "data": {
      "text/html": [
       "<div>\n",
       "<style scoped>\n",
       "    .dataframe tbody tr th:only-of-type {\n",
       "        vertical-align: middle;\n",
       "    }\n",
       "\n",
       "    .dataframe tbody tr th {\n",
       "        vertical-align: top;\n",
       "    }\n",
       "\n",
       "    .dataframe thead th {\n",
       "        text-align: right;\n",
       "    }\n",
       "</style>\n",
       "<table border=\"1\" class=\"dataframe\">\n",
       "  <thead>\n",
       "    <tr style=\"text-align: right;\">\n",
       "      <th></th>\n",
       "      <th>OBJECTID</th>\n",
       "      <th>FID_WDPA_MPA_30km_NoTake_dis</th>\n",
       "      <th>FID_habitats_dis_merge</th>\n",
       "      <th>Id</th>\n",
       "      <th>gridcode</th>\n",
       "      <th>Habitat</th>\n",
       "      <th>ORIG_FID</th>\n",
       "      <th>area</th>\n",
       "      <th>SHAPE</th>\n",
       "    </tr>\n",
       "  </thead>\n",
       "  <tbody>\n",
       "    <tr>\n",
       "      <th>0</th>\n",
       "      <td>1</td>\n",
       "      <td>22</td>\n",
       "      <td>687</td>\n",
       "      <td>2755.0</td>\n",
       "      <td>1.0</td>\n",
       "      <td>shelf_hard</td>\n",
       "      <td>1</td>\n",
       "      <td>2.619752</td>\n",
       "      <td>{\"rings\": [[[-6176885.852499999, 2176878.55629...</td>\n",
       "    </tr>\n",
       "    <tr>\n",
       "      <th>1</th>\n",
       "      <td>2</td>\n",
       "      <td>22</td>\n",
       "      <td>700</td>\n",
       "      <td>2771.0</td>\n",
       "      <td>1.0</td>\n",
       "      <td>shelf_hard</td>\n",
       "      <td>2</td>\n",
       "      <td>113.522600</td>\n",
       "      <td>{\"rings\": [[[-6180623.767999999, 2158188.97870...</td>\n",
       "    </tr>\n",
       "    <tr>\n",
       "      <th>2</th>\n",
       "      <td>3</td>\n",
       "      <td>22</td>\n",
       "      <td>702</td>\n",
       "      <td>2774.0</td>\n",
       "      <td>1.0</td>\n",
       "      <td>shelf_hard</td>\n",
       "      <td>3</td>\n",
       "      <td>0.873251</td>\n",
       "      <td>{\"rings\": [[[-6180623.767999999, 2158188.97870...</td>\n",
       "    </tr>\n",
       "    <tr>\n",
       "      <th>3</th>\n",
       "      <td>4</td>\n",
       "      <td>22</td>\n",
       "      <td>738</td>\n",
       "      <td>2823.0</td>\n",
       "      <td>1.0</td>\n",
       "      <td>shelf_hard</td>\n",
       "      <td>4</td>\n",
       "      <td>5.239505</td>\n",
       "      <td>{\"rings\": [[[-6192771.9934, 2120809.8236999996...</td>\n",
       "    </tr>\n",
       "    <tr>\n",
       "      <th>4</th>\n",
       "      <td>5</td>\n",
       "      <td>22</td>\n",
       "      <td>742</td>\n",
       "      <td>2830.0</td>\n",
       "      <td>1.0</td>\n",
       "      <td>shelf_hard</td>\n",
       "      <td>5</td>\n",
       "      <td>70.733313</td>\n",
       "      <td>{\"rings\": [[[-6192771.9934, 2120809.8236999996...</td>\n",
       "    </tr>\n",
       "  </tbody>\n",
       "</table>\n",
       "</div>"
      ],
      "text/plain": [
       "   OBJECTID  FID_WDPA_MPA_30km_NoTake_dis  FID_habitats_dis_merge      Id  \\\n",
       "0         1                            22                     687  2755.0   \n",
       "1         2                            22                     700  2771.0   \n",
       "2         3                            22                     702  2774.0   \n",
       "3         4                            22                     738  2823.0   \n",
       "4         5                            22                     742  2830.0   \n",
       "\n",
       "   gridcode     Habitat  ORIG_FID        area  \\\n",
       "0       1.0  shelf_hard         1    2.619752   \n",
       "1       1.0  shelf_hard         2  113.522600   \n",
       "2       1.0  shelf_hard         3    0.873251   \n",
       "3       1.0  shelf_hard         4    5.239505   \n",
       "4       1.0  shelf_hard         5   70.733313   \n",
       "\n",
       "                                               SHAPE  \n",
       "0  {\"rings\": [[[-6176885.852499999, 2176878.55629...  \n",
       "1  {\"rings\": [[[-6180623.767999999, 2158188.97870...  \n",
       "2  {\"rings\": [[[-6180623.767999999, 2158188.97870...  \n",
       "3  {\"rings\": [[[-6192771.9934, 2120809.8236999996...  \n",
       "4  {\"rings\": [[[-6192771.9934, 2120809.8236999996...  "
      ]
     },
     "execution_count": 8,
     "metadata": {},
     "output_type": "execute_result"
    }
   ],
   "source": [
    "# Display the DataFrame\n",
    "df.head()"
   ]
  },
  {
   "cell_type": "code",
   "execution_count": 9,
   "id": "4b97be3b",
   "metadata": {},
   "outputs": [
    {
     "name": "stdout",
     "output_type": "stream",
     "text": [
      "           Habitat  count\n",
      "0            coral    286\n",
      "1        deep_hard     16\n",
      "2        deep_soft     13\n",
      "3         mangrove    244\n",
      "4        saltmarsh    189\n",
      "5         seagrass    183\n",
      "6   seamount_knoll     20\n",
      "7     shallow_hard    109\n",
      "8     shallow_soft    159\n",
      "9       shelf_hard    134\n",
      "10      shelf_soft     84\n",
      "11      slope_hard     25\n",
      "12      slope_soft     37\n"
     ]
    }
   ],
   "source": [
    "# Make pivot tables\n",
    "pivot_MPA_ecoregion = df.pivot_table(\n",
    "     index = \"Habitat\",\n",
    "     values = \"OBJECTID\",\n",
    "     aggfunc = \"count\"\n",
    ").reset_index()\n",
    "pivot_MPA_ecoregion.columns = [\"Habitat\", \"count\"]\n",
    "print(pivot_MPA_ecoregion)\n",
    "\n"
   ]
  },
  {
   "cell_type": "code",
   "execution_count": 10,
   "id": "7c3dc59f",
   "metadata": {},
   "outputs": [],
   "source": [
    "#Export to excel\n",
    "\n",
    "table_outputs_folder = r\"F:\\Bex\\ArcGIS\\Ecological_coherence_2023\\Tables\\Replication\"\n",
    "table = pivot_MPA_ecoregion\n",
    "output_name = \"MPA_30km_NoTake_habitat_int_singl_big_Replic2_4_results.xlsx\"\n",
    "\n",
    "table.to_excel(os.path.join(table_outputs_folder, output_name))"
   ]
  },
  {
   "cell_type": "markdown",
   "id": "5ec9161b",
   "metadata": {},
   "source": [
    "Reminder to add in the marine ecoregions/pelagic provinces that fall within the study area but don't have any intersections with no-take MPAs so they dont show up in the results."
   ]
  }
 ],
 "metadata": {
  "kernelspec": {
   "display_name": "Python 3 (ipykernel)",
   "language": "python",
   "name": "python3"
  },
  "language_info": {
   "codemirror_mode": {
    "name": "ipython",
    "version": 3
   },
   "file_extension": ".py",
   "mimetype": "text/x-python",
   "name": "python",
   "nbconvert_exporter": "python",
   "pygments_lexer": "ipython3",
   "version": "3.9.16"
  }
 },
 "nbformat": 4,
 "nbformat_minor": 5
}
