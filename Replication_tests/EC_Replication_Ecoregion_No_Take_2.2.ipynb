{
 "cells": [
  {
   "cell_type": "markdown",
   "id": "68650a6a",
   "metadata": {},
   "source": [
    "# Replication - Ecoregion, No-take MPAs 2.2"
   ]
  },
  {
   "cell_type": "markdown",
   "id": "b33d2676",
   "metadata": {},
   "source": [
    "### Import libraries and set up environment"
   ]
  },
  {
   "cell_type": "code",
   "execution_count": 2,
   "id": "7edd94ed",
   "metadata": {},
   "outputs": [
    {
     "name": "stdout",
     "output_type": "stream",
     "text": [
      "1.4.4\n",
      "1.20.1\n",
      "2.1.0.2\n"
     ]
    }
   ],
   "source": [
    "import os\n",
    "import sys\n",
    "\n",
    "import pandas as pd\n",
    "print(pd.__version__)\n",
    "\n",
    "import numpy as np\n",
    "print(np.__version__)\n",
    "\n",
    "import arcpy\n",
    "\n",
    "import arcgis\n",
    "print(arcgis.__version__)\n",
    "\n",
    "from arcgis.gis import GIS\n",
    "from arcgis.mapping import WebMap\n",
    "from arcgis.features import FeatureLayer"
   ]
  },
  {
   "cell_type": "code",
   "execution_count": 3,
   "id": "c77088aa",
   "metadata": {},
   "outputs": [],
   "source": [
    "# Set the workspace and environment settings\n",
    "\n",
    "arcpy.env.workspace = r\"F:\\Bex\\ArcGIS\\Ecological_coherence_2023\\Ecological_coherence_2023.gdb\"\n",
    "arcpy.env.overwriteOutput = True "
   ]
  },
  {
   "cell_type": "code",
   "execution_count": 4,
   "id": "1770c065",
   "metadata": {},
   "outputs": [
    {
     "data": {
      "text/html": [
       "<div class='gpresult'><h2>Messages</h2><div id='messages' data-messages='[\"Start Time: 03 November 2023 13:34:06\",\"Intersecting with layer F:\\\\Bex\\\\ArcGIS\\\\Ecological_coherence_2023\\\\Ecological_coherence_2023.gdb\\\\WDPA_MPA_NoTake_dis...\",\"Succeeded at 03 November 2023 13:34:07 (Elapsed Time: 0.97 seconds)\"]' data-show='true'><div id = 'default' /></div></div>"
      ],
      "text/plain": [
       "<Result 'F:\\\\Bex\\\\ArcGIS\\\\Ecological_coherence_2023\\\\Ecological_coherence_2023.gdb\\\\MPA_NoTake_dis_Eco_int_Replic2_2'>"
      ]
     },
     "execution_count": 4,
     "metadata": {},
     "output_type": "execute_result"
    }
   ],
   "source": [
    "# Intersect the dissolved no-take MPAs with the ecoregions\n",
    "\n",
    "in_feature_1 = \"WDPA_MPA_NoTake_dis\"\n",
    "in_feature_2 = \"MEco_mol_Carib\"\n",
    "out_feature = \"\\\\MPA_NoTake_dis_Eco_int_Replic2_2\"\n",
    "output_gdb = r\"F:\\Bex\\ArcGIS\\Ecological_coherence_2023\\Ecological_coherence_2023.gdb\"\n",
    "\n",
    "arcpy.analysis.PairwiseIntersect(\n",
    "    in_features=[in_feature_1,in_feature_2],\n",
    "    out_feature_class=output_gdb + out_feature,\n",
    "    join_attributes=\"ALL\",\n",
    "    cluster_tolerance=None,\n",
    "    output_type=\"INPUT\"\n",
    ")"
   ]
  },
  {
   "cell_type": "code",
   "execution_count": 5,
   "id": "948a71b2",
   "metadata": {},
   "outputs": [],
   "source": [
    "# Repair geoemtry on intersect and calculate area of intersecting bits\n",
    "\n",
    "in_feature = \"MPA_NoTake_dis_Eco_int_Replic2_2\"\n",
    "out_feature = \"MPA_NoTake_dis_Eco_int_singl_Replic2_2\"\n",
    "output_gdb = r\"F:\\Bex\\ArcGIS\\Ecological_coherence_2023\\Ecological_coherence_2023.gdb\"\n",
    "\n",
    "def repair_geo_area():\n",
    "    #repair geometry\n",
    "    arcpy.management.RepairGeometry(\n",
    "        in_features= in_feature,\n",
    "        delete_null=\"DELETE_NULL\",\n",
    "        validation_method=\"OGC\"\n",
    "    )\n",
    "    \n",
    "    #make the intersected layer signlepart to ensure all polygons are individual\n",
    "    arcpy.management.MultipartToSinglepart(\n",
    "        in_features= in_feature,\n",
    "        out_feature_class=out_feature\n",
    "    )\n",
    "            \n",
    "    # insert \"area\" field (double) and calculate area in km2 in Mollweide\n",
    "    arcpy.management.CalculateGeometryAttributes(\n",
    "        in_features= out_feature,\n",
    "        geometry_property=\"area AREA\",\n",
    "        length_unit=\"\",\n",
    "        area_unit=\"SQUARE_KILOMETERS\",\n",
    "        coordinate_system='PROJCS[\"World_Mollweide\",GEOGCS[\"GCS_WGS_1984\",DATUM[\"D_WGS_1984\",SPHEROID[\"WGS_1984\",6378137.0,298.257223563]],PRIMEM[\"Greenwich\",0.0],UNIT[\"Degree\",0.0174532925199433]],PROJECTION[\"Mollweide\"],PARAMETER[\"False_Easting\",0.0],PARAMETER[\"False_Northing\",0.0],PARAMETER[\"Central_Meridian\",0.0],UNIT[\"Meter\",1.0]]',\n",
    "        coordinate_format=\"SAME_AS_INPUT\"\n",
    "    )\n",
    "\n",
    "repair_geo_area()\n"
   ]
  },
  {
   "cell_type": "code",
   "execution_count": 6,
   "id": "8e17e8e5",
   "metadata": {},
   "outputs": [],
   "source": [
    "# Only keep features with an area greater than .24 km2\n",
    "\n",
    "# Select features with an area greater than .24 km2 and make a new layer from that and export it to excel\n",
    "\n",
    "# Set a folder to store the output tables\n",
    "table_outputs_folder = r\"F:\\Bex\\ArcGIS\\Ecological_coherence_2023\\Tables\\Replication\"\n",
    "\n",
    "in_feature = \"MPA_NoTake_dis_Eco_int_singl_Replic2_2\"\n",
    "out_feature = \"MPA_NoTake_dis_Eco_int_singl_big_Replic2_2\"\n",
    "output_gdb = r\"F:\\Bex\\ArcGIS\\Ecological_coherence_2023\\Ecological_coherence_2023.gdb\"\n",
    "\n",
    "def select_big_excel():\n",
    "    # make a layer of polygons with an area greater than .24 km2    \n",
    "    arcpy.conversion.ExportFeatures(\n",
    "        in_features= in_feature,\n",
    "        out_features= out_feature,\n",
    "        where_clause=\"area >= 0.24\",\n",
    "        use_field_alias_as_name=\"NOT_USE_ALIAS\",\n",
    "        field_mapping='FID_WDPA_MPA_dis \"FID_WDPA_MPA_dis\" true true false 4 Long 0 0,First,#,MPA_dis_Eco_int_singl_Replic2_1,FID_WDPA_MPA_dis,-1,-1;FID_MEco_mol_Carib \"FID_MEco_mol_Carib\" true true false 4 Long 0 0,First,#,MPA_dis_Eco_int_singl_Replic2_1,FID_MEco_mol_Carib,-1,-1;ECOREGION \"ECOREGION\" true true false 50 Text 0 0,First,#,MPA_dis_Eco_int_singl_Replic2_1,ECOREGION,0,50;REALM \"REALM\" true true false 40 Text 0 0,First,#,MPA_dis_Eco_int_singl_Replic2_1,REALM,0,40;PROVINC \"PROVINC\" true true false 254 Text 0 0,First,#,MPA_dis_Eco_int_singl_Replic2_1,PROVINC,0,254;TYPE \"TYPE\" true true false 50 Text 0 0,First,#,MPA_dis_Eco_int_singl_Replic2_1,TYPE,0,50;BIOME \"BIOME\" true true false 254 Text 0 0,First,#,MPA_dis_Eco_int_singl_Replic2_1,BIOME,0,254;MEOW_PPOW \"MEOW_PPOW\" true true false 512 Text 0 0,First,#,MPA_dis_Eco_int_singl_Replic2_1,MEOW_PPOW,0,512;area \"area\" true true false 8 Double 0 0,First,#,MPA_dis_Eco_int_singl_Replic2_1,area,-1,-1;ORIG_FID \"ORIG_FID\" true true false 4 Long 0 0,First,#,MPA_dis_Eco_int_singl_Replic2_1,ORIG_FID,-1,-1;Shape_Length \"Shape_Length\" false true true 8 Double 0 0,First,#,MPA_dis_Eco_int_singl_Replic2_1,Shape_Length,-1,-1;Shape_Area \"Shape_Area\" false true true 8 Double 0 0,First,#,MPA_dis_Eco_int_singl_Replic2_1,Shape_Area,-1,-1',\n",
    "        sort_field=None\n",
    "    )\n",
    "    \n",
    "    # Export table to excel\n",
    "    # Not sure why I had to use the following two lines instead of just using the TableToExcel expression, but I did\n",
    "    excel_filename = out_feature + \".xlsx\"\n",
    "    excel_filepath = os.path.join(table_outputs_folder, excel_filename)  # Build the full file path\n",
    "\n",
    "    arcpy.conversion.TableToExcel(\n",
    "        Input_Table= in_feature,\n",
    "        Output_Excel_File= excel_filepath,\n",
    "        Use_field_alias_as_column_header=\"NAME\",\n",
    "        Use_domain_and_subtype_description=\"CODE\"\n",
    "    )\n",
    "    \n",
    "select_big_excel()"
   ]
  },
  {
   "cell_type": "code",
   "execution_count": 7,
   "id": "54ffa01f",
   "metadata": {},
   "outputs": [],
   "source": [
    "# Convert the output features to a Pandas DataFrame\n",
    "df = pd.DataFrame.spatial.from_featureclass(\"MPA_NoTake_dis_Eco_int_singl_big_Replic2_2\")\n"
   ]
  },
  {
   "cell_type": "code",
   "execution_count": 8,
   "id": "7bcd6029",
   "metadata": {},
   "outputs": [
    {
     "data": {
      "text/html": [
       "<div>\n",
       "<style scoped>\n",
       "    .dataframe tbody tr th:only-of-type {\n",
       "        vertical-align: middle;\n",
       "    }\n",
       "\n",
       "    .dataframe tbody tr th {\n",
       "        vertical-align: top;\n",
       "    }\n",
       "\n",
       "    .dataframe thead th {\n",
       "        text-align: right;\n",
       "    }\n",
       "</style>\n",
       "<table border=\"1\" class=\"dataframe\">\n",
       "  <thead>\n",
       "    <tr style=\"text-align: right;\">\n",
       "      <th></th>\n",
       "      <th>OBJECTID</th>\n",
       "      <th>FID_WDPA_MPA_dis</th>\n",
       "      <th>FID_MEco_mol_Carib</th>\n",
       "      <th>ECOREGION</th>\n",
       "      <th>REALM</th>\n",
       "      <th>PROVINC</th>\n",
       "      <th>TYPE</th>\n",
       "      <th>BIOME</th>\n",
       "      <th>MEOW_PPOW</th>\n",
       "      <th>area</th>\n",
       "      <th>ORIG_FID</th>\n",
       "      <th>SHAPE</th>\n",
       "    </tr>\n",
       "  </thead>\n",
       "  <tbody>\n",
       "    <tr>\n",
       "      <th>0</th>\n",
       "      <td>1</td>\n",
       "      <td>None</td>\n",
       "      <td>8</td>\n",
       "      <td>Eastern Caribbean</td>\n",
       "      <td>Tropical Atlantic</td>\n",
       "      <td>Tropical Northwestern Atlantic</td>\n",
       "      <td>MEOW</td>\n",
       "      <td></td>\n",
       "      <td>Eastern Caribbean</td>\n",
       "      <td>10.657203</td>\n",
       "      <td>1</td>\n",
       "      <td>{\"hasZ\": true, \"rings\": [[[-6154385.7806, 2164...</td>\n",
       "    </tr>\n",
       "    <tr>\n",
       "      <th>1</th>\n",
       "      <td>2</td>\n",
       "      <td>None</td>\n",
       "      <td>8</td>\n",
       "      <td>Eastern Caribbean</td>\n",
       "      <td>Tropical Atlantic</td>\n",
       "      <td>Tropical Northwestern Atlantic</td>\n",
       "      <td>MEOW</td>\n",
       "      <td></td>\n",
       "      <td>Eastern Caribbean</td>\n",
       "      <td>2644.770527</td>\n",
       "      <td>3</td>\n",
       "      <td>{\"hasZ\": true, \"rings\": [[[-6149306.089400001,...</td>\n",
       "    </tr>\n",
       "    <tr>\n",
       "      <th>2</th>\n",
       "      <td>3</td>\n",
       "      <td>None</td>\n",
       "      <td>8</td>\n",
       "      <td>Eastern Caribbean</td>\n",
       "      <td>Tropical Atlantic</td>\n",
       "      <td>Tropical Northwestern Atlantic</td>\n",
       "      <td>MEOW</td>\n",
       "      <td></td>\n",
       "      <td>Eastern Caribbean</td>\n",
       "      <td>22.739878</td>\n",
       "      <td>6</td>\n",
       "      <td>{\"hasZ\": true, \"rings\": [[[-6008193.7608, 2156...</td>\n",
       "    </tr>\n",
       "    <tr>\n",
       "      <th>3</th>\n",
       "      <td>4</td>\n",
       "      <td>None</td>\n",
       "      <td>8</td>\n",
       "      <td>Eastern Caribbean</td>\n",
       "      <td>Tropical Atlantic</td>\n",
       "      <td>Tropical Northwestern Atlantic</td>\n",
       "      <td>MEOW</td>\n",
       "      <td></td>\n",
       "      <td>Eastern Caribbean</td>\n",
       "      <td>18.299341</td>\n",
       "      <td>8</td>\n",
       "      <td>{\"hasZ\": true, \"rings\": [[[-6011399.4155, 2183...</td>\n",
       "    </tr>\n",
       "    <tr>\n",
       "      <th>4</th>\n",
       "      <td>5</td>\n",
       "      <td>None</td>\n",
       "      <td>8</td>\n",
       "      <td>Eastern Caribbean</td>\n",
       "      <td>Tropical Atlantic</td>\n",
       "      <td>Tropical Northwestern Atlantic</td>\n",
       "      <td>MEOW</td>\n",
       "      <td></td>\n",
       "      <td>Eastern Caribbean</td>\n",
       "      <td>48.705379</td>\n",
       "      <td>9</td>\n",
       "      <td>{\"hasZ\": true, \"rings\": [[[-6001989.207900001,...</td>\n",
       "    </tr>\n",
       "  </tbody>\n",
       "</table>\n",
       "</div>"
      ],
      "text/plain": [
       "   OBJECTID FID_WDPA_MPA_dis  FID_MEco_mol_Carib          ECOREGION  \\\n",
       "0         1             None                   8  Eastern Caribbean   \n",
       "1         2             None                   8  Eastern Caribbean   \n",
       "2         3             None                   8  Eastern Caribbean   \n",
       "3         4             None                   8  Eastern Caribbean   \n",
       "4         5             None                   8  Eastern Caribbean   \n",
       "\n",
       "               REALM                         PROVINC  TYPE BIOME  \\\n",
       "0  Tropical Atlantic  Tropical Northwestern Atlantic  MEOW         \n",
       "1  Tropical Atlantic  Tropical Northwestern Atlantic  MEOW         \n",
       "2  Tropical Atlantic  Tropical Northwestern Atlantic  MEOW         \n",
       "3  Tropical Atlantic  Tropical Northwestern Atlantic  MEOW         \n",
       "4  Tropical Atlantic  Tropical Northwestern Atlantic  MEOW         \n",
       "\n",
       "           MEOW_PPOW         area  ORIG_FID  \\\n",
       "0  Eastern Caribbean    10.657203         1   \n",
       "1  Eastern Caribbean  2644.770527         3   \n",
       "2  Eastern Caribbean    22.739878         6   \n",
       "3  Eastern Caribbean    18.299341         8   \n",
       "4  Eastern Caribbean    48.705379         9   \n",
       "\n",
       "                                               SHAPE  \n",
       "0  {\"hasZ\": true, \"rings\": [[[-6154385.7806, 2164...  \n",
       "1  {\"hasZ\": true, \"rings\": [[[-6149306.089400001,...  \n",
       "2  {\"hasZ\": true, \"rings\": [[[-6008193.7608, 2156...  \n",
       "3  {\"hasZ\": true, \"rings\": [[[-6011399.4155, 2183...  \n",
       "4  {\"hasZ\": true, \"rings\": [[[-6001989.207900001,...  "
      ]
     },
     "execution_count": 8,
     "metadata": {},
     "output_type": "execute_result"
    }
   ],
   "source": [
    "# Display the DataFrame\n",
    "df.head()"
   ]
  },
  {
   "cell_type": "code",
   "execution_count": 9,
   "id": "4b97be3b",
   "metadata": {},
   "outputs": [
    {
     "name": "stdout",
     "output_type": "stream",
     "text": [
      "                     MEOW_PPOW  count\n",
      "0                     Bahamian      5\n",
      "1                   Carolinian      1\n",
      "2            Eastern Caribbean     18\n",
      "3                    Floridian     18\n",
      "4             Greater Antilles     20\n",
      "5          Inter American Seas     10\n",
      "6  North Central Atlantic Gyre      3\n",
      "7      Northern Gulf of Mexico      2\n",
      "8       Southwestern Caribbean     12\n",
      "9            Western Caribbean     12\n"
     ]
    }
   ],
   "source": [
    "# Make pivot tables\n",
    "pivot_MPA_ecoregion = df.pivot_table(\n",
    "     index = \"MEOW_PPOW\",\n",
    "     values = \"OBJECTID\",\n",
    "     aggfunc = \"count\"\n",
    ").reset_index()\n",
    "pivot_MPA_ecoregion.columns = [\"MEOW_PPOW\", \"count\"]\n",
    "print(pivot_MPA_ecoregion)\n",
    "\n"
   ]
  },
  {
   "cell_type": "code",
   "execution_count": 10,
   "id": "7c3dc59f",
   "metadata": {},
   "outputs": [],
   "source": [
    "#Export to excel\n",
    "\n",
    "table_outputs_folder = r\"F:\\Bex\\ArcGIS\\Ecological_coherence_2023\\Tables\\Replication\"\n",
    "table = pivot_MPA_ecoregion\n",
    "output_name = \"MPA_NoTake_dis_Eco_int_singl_big_Replic2_2_results.xlsx\"\n",
    "\n",
    "table.to_excel(os.path.join(table_outputs_folder, output_name))"
   ]
  },
  {
   "cell_type": "markdown",
   "id": "5ec9161b",
   "metadata": {},
   "source": [
    "Reminder to add in the marine ecoregions/pelagic provinces that fall within the study area but don't have any intersections with no-take MPAs so they dont show up in the results."
   ]
  }
 ],
 "metadata": {
  "kernelspec": {
   "display_name": "Python 3 (ipykernel)",
   "language": "python",
   "name": "python3"
  },
  "language_info": {
   "codemirror_mode": {
    "name": "ipython",
    "version": 3
   },
   "file_extension": ".py",
   "mimetype": "text/x-python",
   "name": "python",
   "nbconvert_exporter": "python",
   "pygments_lexer": "ipython3",
   "version": "3.9.16"
  }
 },
 "nbformat": 4,
 "nbformat_minor": 5
}
