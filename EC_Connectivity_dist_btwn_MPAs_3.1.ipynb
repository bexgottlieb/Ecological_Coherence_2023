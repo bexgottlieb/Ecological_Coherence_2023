{
 "cells": [
  {
   "cell_type": "markdown",
   "id": "68650a6a",
   "metadata": {},
   "source": [
    "# Connectivity - distance between MPAs 3.1"
   ]
  },
  {
   "cell_type": "markdown",
   "id": "b33d2676",
   "metadata": {},
   "source": [
    "### Import libraries and set up environment"
   ]
  },
  {
   "cell_type": "code",
   "execution_count": 4,
   "id": "7edd94ed",
   "metadata": {},
   "outputs": [
    {
     "name": "stdout",
     "output_type": "stream",
     "text": [
      "1.4.4\n",
      "1.20.1\n",
      "2.1.0.2\n"
     ]
    }
   ],
   "source": [
    "import os\n",
    "import sys\n",
    "\n",
    "import pandas as pd\n",
    "print(pd.__version__)\n",
    "\n",
    "import numpy as np\n",
    "print(np.__version__)\n",
    "\n",
    "import arcpy\n",
    "\n",
    "import arcgis\n",
    "print(arcgis.__version__)\n",
    "\n",
    "from arcgis.gis import GIS\n",
    "from arcgis.mapping import WebMap\n",
    "from arcgis.features import FeatureLayer"
   ]
  },
  {
   "cell_type": "code",
   "execution_count": 5,
   "id": "c77088aa",
   "metadata": {},
   "outputs": [],
   "source": [
    "# Set the workspace and environment settings\n",
    "\n",
    "arcpy.env.workspace = r\"F:\\Bex\\ArcGIS\\Ecological_coherence_2023\\Ecological_coherence_2023.gdb\"\n",
    "arcpy.env.overwriteOutput = True "
   ]
  },
  {
   "cell_type": "code",
   "execution_count": null,
   "id": "0965589a",
   "metadata": {},
   "outputs": [],
   "source": [
    "# make a custom projection called Azimuthal Equidistant (world)_carib:\n",
    "\n",
    "# Alter Azimuthal Equidistant (world) such that:\n",
    "# central meridian is -80 and latitude of origin is 20\n",
    "\n"
   ]
  },
  {
   "cell_type": "code",
   "execution_count": null,
   "id": "71a799f3",
   "metadata": {},
   "outputs": [],
   "source": [
    "# project the dissolved MPA layer to the custom projection\n",
    "\n",
    "in_feature = \"WDPA_MPA_dis\"\n",
    "out_feature = \"WDPA_MPA_dis_Azi\"\n",
    "output_gdb = r\"F:\\Bex\\ArcGIS\\Ecological_coherence_2023\\Ecological_coherence_2023.gdb\"\n",
    "\n",
    "\n",
    "arcpy.management.Project(\n",
    "    in_dataset= in_feature,\n",
    "    out_dataset= out_feature,\n",
    "    out_coor_system='PROJCS[\"Azimuthal Equidistant (world)_carib\",GEOGCS[\"GCS_WGS_1984\",DATUM[\"D_WGS_1984\",SPHEROID[\"WGS_1984\",6378137.0,298.257223563]],PRIMEM[\"Greenwich\",0.0],UNIT[\"Degree\",0.0174532925199433]],PROJECTION[\"Azimuthal_Equidistant\"],PARAMETER[\"False_Easting\",0.0],PARAMETER[\"False_Northing\",0.0],PARAMETER[\"Central_Meridian\",-80.0],PARAMETER[\"Latitude_Of_Origin\",20.0],UNIT[\"Meter\",1.0]]',\n",
    "    transform_method=None,\n",
    "    in_coor_system='PROJCS[\"World_Mollweide\",GEOGCS[\"GCS_WGS_1984\",DATUM[\"D_WGS_1984\",SPHEROID[\"WGS_1984\",6378137.0,298.257223563]],PRIMEM[\"Greenwich\",0.0],UNIT[\"Degree\",0.0174532925199433]],PROJECTION[\"Mollweide\"],PARAMETER[\"False_Easting\",0.0],PARAMETER[\"False_Northing\",0.0],PARAMETER[\"Central_Meridian\",0.0],UNIT[\"Meter\",1.0]]',\n",
    "    preserve_shape=\"NO_PRESERVE_SHAPE\",\n",
    "    max_deviation=None,\n",
    "    vertical=\"NO_VERTICAL\"\n",
    ")"
   ]
  },
  {
   "cell_type": "code",
   "execution_count": null,
   "id": "dc1fe7a6",
   "metadata": {},
   "outputs": [],
   "source": [
    "# Calculate the area of the MPA footprint in Mollweide\n",
    "\n",
    "in_feature = \"WDPA_MPA_dis_Azi\"\n",
    "output_gdb = r\"F:\\Bex\\ArcGIS\\Ecological_coherence_2023\\Ecological_coherence_2023.gdb\"\n",
    "\n",
    "arcpy.management.CalculateGeometryAttributes(\n",
    "    in_features= in_feature,\n",
    "    geometry_property=\"area AREA\",\n",
    "    length_unit=\"\",\n",
    "    area_unit=\"SQUARE_KILOMETERS\",\n",
    "    coordinate_system='PROJCS[\"World_Mollweide\",GEOGCS[\"GCS_WGS_1984\",DATUM[\"D_WGS_1984\",SPHEROID[\"WGS_1984\",6378137.0,298.257223563]],PRIMEM[\"Greenwich\",0.0],UNIT[\"Degree\",0.0174532925199433]],PROJECTION[\"Mollweide\"],PARAMETER[\"False_Easting\",0.0],PARAMETER[\"False_Northing\",0.0],PARAMETER[\"Central_Meridian\",0.0],UNIT[\"Meter\",1.0]]',\n",
    "    coordinate_format=\"SAME_AS_INPUT\"\n",
    ")"
   ]
  },
  {
   "cell_type": "code",
   "execution_count": 3,
   "id": "4a912469",
   "metadata": {},
   "outputs": [],
   "source": [
    "# Remove bits that are less than .24 km2\n",
    "\n",
    "in_feature = \"WDPA_MPA_dis_Azi\"\n",
    "out_feature = \"WDPA_MPA_dis_Azi_big\"\n",
    "output_gdb = r\"F:\\Bex\\ArcGIS\\Ecological_coherence_2023\\Ecological_coherence_2023.gdb\"\n",
    "\n",
    "def select_big_repair():\n",
    "    # make a layer of polygons with an area greater than .24 km2    \n",
    "    arcpy.conversion.ExportFeatures(\n",
    "        in_features= in_feature,\n",
    "        out_features= out_feature,\n",
    "        where_clause=\"area >= 0.24\",\n",
    "        use_field_alias_as_name=\"NOT_USE_ALIAS\",\n",
    "        field_mapping=None,\n",
    "        sort_field=None\n",
    "    )\n",
    "    \n",
    "    # repair geometry\n",
    "    arcpy.management.RepairGeometry(\n",
    "        in_features= out_feature,\n",
    "        delete_null=\"DELETE_NULL\",\n",
    "        validation_method=\"OGC\"\n",
    "    )\n",
    "    \n",
    "select_big_repair()\n"
   ]
  },
  {
   "cell_type": "code",
   "execution_count": 25,
   "id": "ad222d3c",
   "metadata": {},
   "outputs": [
    {
     "name": "stdout",
     "output_type": "stream",
     "text": [
      "Number of MPA footprints: 677\n"
     ]
    }
   ],
   "source": [
    "MPA_footprint_count = int(arcpy.GetCount_management(\"WDPA_MPA_dis_Azi_big\").getOutput(0))\n",
    "print(f\"Number of MPA footprints: {MPA_footprint_count}\")"
   ]
  },
  {
   "cell_type": "code",
   "execution_count": null,
   "id": "d56da89e",
   "metadata": {},
   "outputs": [],
   "source": [
    "# Buffer the layer by 10 km\n",
    "\n",
    "in_feature = \"WDPA_MPA_dis_Azi_big\"\n",
    "out_feature = \"WDPA_MPA_dis_Azi_big_buff\"\n",
    "output_gdb = r\"F:\\Bex\\ArcGIS\\Ecological_coherence_2023\\Ecological_coherence_2023.gdb\"\n",
    "\n",
    "arcpy.analysis.PairwiseBuffer(\n",
    "    in_features= in_feature,\n",
    "    out_feature_class= out_feature,\n",
    "    buffer_distance_or_field=\"10 Kilometers\",\n",
    "    dissolve_option=\"NONE\",\n",
    "    dissolve_field=None,\n",
    "    method=\"PLANAR\",\n",
    "    max_deviation=\"0 Meters\"\n",
    ")"
   ]
  },
  {
   "cell_type": "code",
   "execution_count": null,
   "id": "e4231d10",
   "metadata": {},
   "outputs": [],
   "source": [
    "# Intersect the buffered MPAs\n",
    "\n",
    "in_feature = \"WDPA_MPA_dis_Azi_big_buff\"\n",
    "out_feature = \"WDPA_MPA_dis_Azi_big_buff_int\"\n",
    "output_gdb = r\"F:\\Bex\\ArcGIS\\Ecological_coherence_2023\\Ecological_coherence_2023.gdb\"\n",
    "\n",
    "arcpy.analysis.PairwiseIntersect(\n",
    "    in_features= in_feature,\n",
    "    out_feature_class=out_feature,\n",
    "    join_attributes=\"ALL\",\n",
    "    cluster_tolerance=None,\n",
    "    output_type=\"INPUT\"\n",
    ")"
   ]
  },
  {
   "cell_type": "code",
   "execution_count": 20,
   "id": "7c61f632",
   "metadata": {},
   "outputs": [
    {
     "name": "stdout",
     "output_type": "stream",
     "text": [
      "Number of selected features in WDPA_MPA_dis_Azi_big_buff_La14: 603\n",
      "Number of selected features in WDPA_MPA_dis_Azi_big_Layer8: 603\n",
      "Number of selected features in WDPA_MPA_dis_Azi_big_Layer9: 74\n"
     ]
    }
   ],
   "source": [
    "# Make layers of the connected and not connected MPAs by re-matching the intersecting buffers with their corresponding MPA footprints\n",
    "\n",
    "in_feature = \"WDPA_MPA_dis_Azi_big_buff\"\n",
    "select_feature = \"WDPA_MPA_dis_Azi_big_buff_int\"\n",
    "MPAs = \"WDPA_MPA_dis_Azi_big\"\n",
    "out_feature = \"WDPA_MPA_dis_Azi_big_conn\"\n",
    "out_feature_not_connected = \"WDPA_MPA_dis_Azi_big_NotConn\"\n",
    "output_gdb = r\"F:\\Bex\\ArcGIS\\Ecological_coherence_2023\\Ecological_coherence_2023.gdb\"\n",
    "\n",
    "def connected_mpas():\n",
    "    \n",
    "    #select the intersecting buffers\n",
    "    selection1 = arcpy.management.SelectLayerByLocation(\n",
    "        in_layer= in_feature,\n",
    "        overlap_type=\"INTERSECT\",\n",
    "        select_features= select_feature,\n",
    "        search_distance=None,\n",
    "        selection_type=\"NEW_SELECTION\",\n",
    "        invert_spatial_relationship=\"NOT_INVERT\"\n",
    "    )\n",
    "    \n",
    "    selected_count = int(arcpy.GetCount_management(selection1).getOutput(0))\n",
    "    print(f\"Number of selected features in {selection1}: {selected_count}\")\n",
    "\n",
    "    # Convert those back to their corresponing MPA footprints by selecting the MPAs that are completely within the selected buffers\n",
    "    selection2 = arcpy.management.SelectLayerByLocation(\n",
    "        in_layer= MPAs,\n",
    "        overlap_type=\"COMPLETELY_WITHIN\",\n",
    "        select_features= selection1,\n",
    "        search_distance=None,\n",
    "        selection_type=\"ADD_TO_SELECTION\",\n",
    "        invert_spatial_relationship=\"NOT_INVERT\"\n",
    "    )\n",
    "    \n",
    "    selected_count = int(arcpy.GetCount_management(selection2).getOutput(0))\n",
    "    print(f\"Number of selected features in {selection2}: {selected_count}\")\n",
    "    \n",
    "    # make a new layer of the connected MPAs\n",
    "    arcpy.conversion.FeatureClassToFeatureClass(\n",
    "        in_features=selection2,\n",
    "        out_path=output_gdb,\n",
    "        out_name=out_feature,\n",
    "        where_clause=\"\",\n",
    "    )\n",
    "    \n",
    "    #select the inverse of selection2 to make a layer of not connected MPAs\n",
    "    selection2_inverse = arcpy.management.SelectLayerByLocation(\n",
    "        in_layer= MPAs,\n",
    "        overlap_type=\"COMPLETELY_WITHIN\",\n",
    "        select_features= selection1,\n",
    "        search_distance=None,\n",
    "        selection_type=\"ADD_TO_SELECTION\",\n",
    "        invert_spatial_relationship=\"INVERT\"\n",
    "    )\n",
    "    \n",
    "    selected_count = int(arcpy.GetCount_management(selection2_inverse).getOutput(0))\n",
    "    print(f\"Number of selected features in {selection2_inverse}: {selected_count}\")\n",
    "    \n",
    "    # make a new layer of the connected MPAs\n",
    "    arcpy.conversion.FeatureClassToFeatureClass(\n",
    "        in_features=selection2_inverse,\n",
    "        out_path=output_gdb,\n",
    "        out_name=out_feature_not_connected,\n",
    "        where_clause=\"\",\n",
    "    )\n",
    "    \n",
    "\n",
    "connected_mpas()"
   ]
  },
  {
   "cell_type": "code",
   "execution_count": 31,
   "id": "b345583d",
   "metadata": {},
   "outputs": [
    {
     "data": {
      "text/html": [
       "<div>\n",
       "<style scoped>\n",
       "    .dataframe tbody tr th:only-of-type {\n",
       "        vertical-align: middle;\n",
       "    }\n",
       "\n",
       "    .dataframe tbody tr th {\n",
       "        vertical-align: top;\n",
       "    }\n",
       "\n",
       "    .dataframe thead th {\n",
       "        text-align: right;\n",
       "    }\n",
       "</style>\n",
       "<table border=\"1\" class=\"dataframe\">\n",
       "  <thead>\n",
       "    <tr style=\"text-align: right;\">\n",
       "      <th></th>\n",
       "      <th>Total number of MPA footprints</th>\n",
       "      <th>Number of connected MPA footprints</th>\n",
       "      <th>Number of not connected MPA footprints</th>\n",
       "    </tr>\n",
       "  </thead>\n",
       "  <tbody>\n",
       "    <tr>\n",
       "      <th>0</th>\n",
       "      <td>677</td>\n",
       "      <td>603</td>\n",
       "      <td>74</td>\n",
       "    </tr>\n",
       "  </tbody>\n",
       "</table>\n",
       "</div>"
      ],
      "text/plain": [
       "   Total number of MPA footprints  Number of connected MPA footprints  \\\n",
       "0                             677                                 603   \n",
       "\n",
       "   Number of not connected MPA footprints  \n",
       "0                                      74  "
      ]
     },
     "execution_count": 31,
     "metadata": {},
     "output_type": "execute_result"
    }
   ],
   "source": [
    "# Create a Pandas DataFrame to store the selection counts\n",
    "data = {\n",
    "    \"Total number of MPA footprints\": [int(arcpy.GetCount_management(\"WDPA_MPA_dis_Azi_big\").getOutput(0))],\n",
    "    \"Number of connected MPA footprints\": [int(arcpy.GetCount_management(\"WDPA_MPA_dis_Azi_big_conn\").getOutput(0))],\n",
    "    \"Number of not connected MPA footprints\": [int(arcpy.GetCount_management(\"WDPA_MPA_dis_Azi_big_NotConn\").getOutput(0))]\n",
    "}\n",
    "df = pd.DataFrame(data)\n",
    "df.head()\n",
    "\n"
   ]
  },
  {
   "cell_type": "code",
   "execution_count": 32,
   "id": "c14d5674",
   "metadata": {},
   "outputs": [],
   "source": [
    "table_outputs_folder = r\"F:\\Bex\\ArcGIS\\Ecological_coherence_2023\\Tables\\Connectivity\"\n",
    "table = df\n",
    "output_name = \"Connectivity3_1_results.xlsx\"\n",
    "\n",
    "table.to_excel(os.path.join(table_outputs_folder, output_name))"
   ]
  }
 ],
 "metadata": {
  "kernelspec": {
   "display_name": "Python 3 (ipykernel)",
   "language": "python",
   "name": "python3"
  },
  "language_info": {
   "codemirror_mode": {
    "name": "ipython",
    "version": 3
   },
   "file_extension": ".py",
   "mimetype": "text/x-python",
   "name": "python",
   "nbconvert_exporter": "python",
   "pygments_lexer": "ipython3",
   "version": "3.9.16"
  }
 },
 "nbformat": 4,
 "nbformat_minor": 5
}
